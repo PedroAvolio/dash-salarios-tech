{
 "cells": [
  {
   "cell_type": "code",
   "execution_count": 1,
   "metadata": {},
   "outputs": [],
   "source": [
    "from pyspark.context import SparkContext\n",
    "from awsglue.context import GlueContext\n",
    "from awsglue.job import Job\n",
    "from awsglue.utils import getResolvedOptions\n",
    "from awsglue.dynamicframe import DynamicFrame\n",
    "from pyspark.sql.functions import col, udf, struct\n",
    "from pyspark.sql.types import StringType\n",
    "from awsglue.transforms import Map, DropFields, ApplyMapping\n",
    "import psycopg2\n",
    "\n",
    "sc = SparkContext()\n",
    "context = GlueContext(sc)"
   ]
  },
  {
   "cell_type": "code",
   "execution_count": 2,
   "metadata": {},
   "outputs": [
    {
     "name": "stdout",
     "output_type": "stream",
     "text": [
      "s3://network.cubo.datalake/airtable/raw/prod/2025-03-17-18-05-57/data/Calendário de Eventos Cubo/Events/Plataforma Cubo Network/\n"
     ]
    },
    {
     "data": {
      "text/plain": [
       "6"
      ]
     },
     "execution_count": 2,
     "metadata": {},
     "output_type": "execute_result"
    }
   ],
   "source": [
    "path = \"s3://network.cubo.datalake/airtable/raw/prod/\"\n",
    "path = path + \"2025-03-17-18-05-57/data/\"\n",
    "path = path + \"Calendário de Eventos Cubo/Events/Plataforma Cubo Network/\"\n",
    "print(path)\n",
    "dataframeBaseEventos = context.create_dynamic_frame.from_options(\n",
    "                connection_type='s3',\n",
    "                connection_options={\n",
    "                    'paths': [path],\n",
    "                    'recurse': True\n",
    "                },\n",
    "                format='json'\n",
    "            )\n",
    "dataframeBaseEventos.count()"
   ]
  },
  {
   "cell_type": "code",
   "execution_count": 3,
   "metadata": {},
   "outputs": [
    {
     "name": "stdout",
     "output_type": "stream",
     "text": [
      "root\n",
      "|-- id: string\n",
      "|-- createdTime: string\n",
      "|-- fields: struct\n",
      "|    |-- Título do evento: string\n",
      "|    |-- Categoria de evento: string\n",
      "|    |-- Data e Horário: string\n",
      "|    |-- Tipo do evento: string\n",
      "|    |-- Link de inscrição: string\n",
      "|    |-- Formato: string\n",
      "|    |-- Trimestre: string\n",
      "|    |-- Semestre: string\n",
      "|    |-- Publico: array\n",
      "|    |    |-- element: string\n",
      "|    |-- Hub: array\n",
      "|    |    |-- element: string\n",
      "|    |-- Imagem: array\n",
      "|    |    |-- element: struct\n",
      "|    |    |    |-- id: string\n",
      "|    |    |    |-- width: int\n",
      "|    |    |    |-- height: int\n",
      "|    |    |    |-- url: string\n",
      "|    |    |    |-- filename: string\n",
      "|    |    |    |-- size: int\n",
      "|    |    |    |-- type: string\n",
      "|    |    |    |-- thumbnails: struct\n",
      "|    |    |    |    |-- small: struct\n",
      "|    |    |    |    |    |-- url: string\n",
      "|    |    |    |    |    |-- width: int\n",
      "|    |    |    |    |    |-- height: int\n",
      "|    |    |    |    |-- large: struct\n",
      "|    |    |    |    |    |-- url: string\n",
      "|    |    |    |    |    |-- width: int\n",
      "|    |    |    |    |    |-- height: int\n",
      "|    |    |    |    |-- full: struct\n",
      "|    |    |    |    |    |-- url: string\n",
      "|    |    |    |    |    |-- width: int\n",
      "|    |    |    |    |    |-- height: int\n",
      "|    |-- Descrição: string\n",
      "|    |-- Status do evento: string\n",
      "|    |-- Nome do criador do evento: string\n",
      "|    |-- Ativo: boolean\n",
      "|    |-- Listar em Eventos Recomendados na Plataforma?: boolean\n",
      "|    |-- Evento Privado?: string\n",
      "|    |-- Publicado?: boolean\n",
      "|    |-- Label: string\n",
      "|    |-- Data e Horário de Término: string\n",
      "|    |-- Local do Evento: string\n",
      "|    |-- Created By: struct\n",
      "|    |    |-- id: string\n",
      "|    |    |-- email: string\n",
      "|    |    |-- name: string\n",
      "|    |-- Created: string\n",
      "|    |-- Evento Destaque(site): boolean\n",
      "|    |-- Tipo de Ingresso(site): string\n",
      "|    |-- Local(Sala/Andar)(site): string\n",
      "|    |-- Tema(site): string\n",
      "|    |-- Palestrantes(site): string\n",
      "|    |-- Programação(site): string\n",
      "|    |-- Resumo do tema(site): string\n",
      "\n"
     ]
    }
   ],
   "source": [
    "dataframeBaseEventos.printSchema()"
   ]
  },
  {
   "cell_type": "code",
   "execution_count": 4,
   "metadata": {},
   "outputs": [],
   "source": [
    "mapping = []\n",
    "for item in dataframeBaseEventos.unnest().toDF().dtypes:\n",
    "    if item[0].split('.')[0] == \"fields\":\n",
    "        if len(item[0].split(\".\")) == 2:\n",
    "            mapping.append((item[0], item[0].split('.')[1]))\n",
    "    else:\n",
    "        mapping.append((item[0], item[0].split('.')[0]))  "
   ]
  },
  {
   "cell_type": "code",
   "execution_count": 5,
   "metadata": {},
   "outputs": [],
   "source": [
    "#Função para extrair a URL da imagem, lidando corretamente com Row objects\n",
    "def extract_imagem_url(imagem):\n",
    "    if isinstance(imagem, list) and len(imagem) > 0:\n",
    "        first_image = imagem[0]  # Pegamos o primeiro elemento da lista\n",
    "\n",
    "        #Verifica se o elemento é um dicionário ou um Row object\n",
    "        if isinstance(first_image, dict):\n",
    "            return first_image.get(\"url\", None)\n",
    "        elif hasattr(first_image, \"asDict\"):  # Caso seja um Row object\n",
    "            return first_image.asDict().get(\"url\", None)\n",
    "\n",
    "    return None  # Retorna None se não houver imagem\n",
    "\n",
    "#Criar a UDF para uso no DataFrame\n",
    "extract_imagem_url_udf = udf(extract_imagem_url, StringType())\n",
    "\n",
    "#Converter DynamicFrame para DataFrame do Spark\n",
    "newDf = dataframeBaseEventos.toDF()\n",
    "\n",
    "#Atualizar a coluna \"fields\" para incluir \"ImagemURL\"\n",
    "newDf = newDf.withColumn(\n",
    "    \"fields\",\n",
    "    struct(\n",
    "        col(\"fields.*\"),  # 🔥 Mantém todas as colunas já existentes em \"fields\"\n",
    "        extract_imagem_url_udf(col(\"fields.Imagem\")).alias(\"ImagemURL\")  # 🔥 Adiciona ImagemURL corretamente\n",
    "    )\n",
    ")\n",
    "\n",
    "#Converter DataFrame do Spark de volta para DynamicFrame no Glue\n",
    "newDf = DynamicFrame.fromDF(newDf, context, \"newDf\")"
   ]
  },
  {
   "cell_type": "code",
   "execution_count": 6,
   "metadata": {},
   "outputs": [
    {
     "name": "stdout",
     "output_type": "stream",
     "text": [
      "root\n",
      "|-- id: string\n",
      "|-- createdTime: string\n",
      "|-- fields: struct\n",
      "|    |-- Título do evento: string\n",
      "|    |-- Categoria de evento: string\n",
      "|    |-- Data e Horário: string\n",
      "|    |-- Tipo do evento: string\n",
      "|    |-- Link de inscrição: string\n",
      "|    |-- Formato: string\n",
      "|    |-- Trimestre: string\n",
      "|    |-- Semestre: string\n",
      "|    |-- Publico: array\n",
      "|    |    |-- element: string\n",
      "|    |-- Hub: array\n",
      "|    |    |-- element: string\n",
      "|    |-- Imagem: array\n",
      "|    |    |-- element: struct\n",
      "|    |    |    |-- id: string\n",
      "|    |    |    |-- width: int\n",
      "|    |    |    |-- height: int\n",
      "|    |    |    |-- url: string\n",
      "|    |    |    |-- filename: string\n",
      "|    |    |    |-- size: int\n",
      "|    |    |    |-- type: string\n",
      "|    |    |    |-- thumbnails: struct\n",
      "|    |    |    |    |-- small: struct\n",
      "|    |    |    |    |    |-- url: string\n",
      "|    |    |    |    |    |-- width: int\n",
      "|    |    |    |    |    |-- height: int\n",
      "|    |    |    |    |-- large: struct\n",
      "|    |    |    |    |    |-- url: string\n",
      "|    |    |    |    |    |-- width: int\n",
      "|    |    |    |    |    |-- height: int\n",
      "|    |    |    |    |-- full: struct\n",
      "|    |    |    |    |    |-- url: string\n",
      "|    |    |    |    |    |-- width: int\n",
      "|    |    |    |    |    |-- height: int\n",
      "|    |-- Descrição: string\n",
      "|    |-- Status do evento: string\n",
      "|    |-- Nome do criador do evento: string\n",
      "|    |-- Ativo: boolean\n",
      "|    |-- Listar em Eventos Recomendados na Plataforma?: boolean\n",
      "|    |-- Evento Privado?: string\n",
      "|    |-- Publicado?: boolean\n",
      "|    |-- Label: string\n",
      "|    |-- Data e Horário de Término: string\n",
      "|    |-- Local do Evento: string\n",
      "|    |-- Created By: struct\n",
      "|    |    |-- id: string\n",
      "|    |    |-- email: string\n",
      "|    |    |-- name: string\n",
      "|    |-- Created: string\n",
      "|    |-- Evento Destaque(site): boolean\n",
      "|    |-- Tipo de Ingresso(site): string\n",
      "|    |-- Local(Sala/Andar)(site): string\n",
      "|    |-- Tema(site): string\n",
      "|    |-- Palestrantes(site): string\n",
      "|    |-- Programação(site): string\n",
      "|    |-- Resumo do tema(site): string\n",
      "|    |-- ImagemURL: string\n",
      "\n"
     ]
    }
   ],
   "source": [
    "#Verificar schema atualizado\n",
    "newDf.printSchema()"
   ]
  },
  {
   "cell_type": "code",
   "execution_count": 7,
   "metadata": {},
   "outputs": [],
   "source": [
    "#Aplicar apply_mapping() e resolver tipos\n",
    "newDf = newDf.apply_mapping(mapping + [\n",
    "    (\"fields.ImagemURL\", \"string\", \"ImagemURL\", \"string\")  #Adicionando ImagemURL ao mapeamento\n",
    "]) \\\n",
    "    .resolveChoice([\n",
    "        (\"Evento Privado?\", \"cast:boolean\"),\n",
    "        (\"ImagemURL\", \"cast:string\")  #Garantindo que ImagemURL seja reconhecido\n",
    "    ]) \\\n",
    "    .drop_fields([\n",
    "        \"id\", \"Tipo do evento\", \"createdTime\", \"Hub\", \"Publico\", \"Trimestre\", \"Semestre\",\n",
    "        \"Categoria de evento\", \"Status do evento\", \"Created By\", \n",
    "        \"Nome do criador do evento\", \"Created\",\n",
    "        \"Imagem\"  #Removendo o campo original \"Imagem\"\n",
    "    ])\n"
   ]
  },
  {
   "cell_type": "code",
   "execution_count": 8,
   "metadata": {},
   "outputs": [
    {
     "name": "stdout",
     "output_type": "stream",
     "text": [
      "root\n",
      "|-- Título do evento: string\n",
      "|-- Data e Horário: string\n",
      "|-- Link de inscrição: string\n",
      "|-- Formato: string\n",
      "|-- Descrição: string\n",
      "|-- Ativo: boolean\n",
      "|-- Listar em Eventos Recomendados na Plataforma?: boolean\n",
      "|-- Evento Privado?: boolean\n",
      "|-- Publicado?: boolean\n",
      "|-- Label: string\n",
      "|-- Data e Horário de Término: string\n",
      "|-- Local do Evento: string\n",
      "|-- Evento Destaque(site): boolean\n",
      "|-- Tipo de Ingresso(site): string\n",
      "|-- Local(Sala/Andar)(site): string\n",
      "|-- Tema(site): string\n",
      "|-- Palestrantes(site): string\n",
      "|-- Programação(site): string\n",
      "|-- Resumo do tema(site): string\n",
      "|-- ImagemURL: string\n",
      "\n"
     ]
    }
   ],
   "source": [
    "#Verificar schema atualizado\n",
    "newDf.printSchema()"
   ]
  },
  {
   "cell_type": "code",
   "execution_count": null,
   "metadata": {},
   "outputs": [],
   "source": [
    "# #Converter DynamicFrame de volta para DataFrame do Spark\n",
    "# newDf_final = newDf.toDF().toDF(\n",
    "#     \"Título do evento\", \"Data e Horário\", \"Link de inscrição\", \"Formato\", \n",
    "#     \"Descrição\", \"Ativo\", \"Listar em Eventos Recomendados na Plataforma?\", \n",
    "#     \"Evento Privado?\", \"Publicado?\", \"Label\", \"Data e Horário de Término\", \n",
    "#     \"Local do Evento\", \"Evento Destaque(site)\", \"Tipo de Ingresso(site)\", \n",
    "#     \"Local(Sala/Andar)(site)\", \"Tema(site)\", \"Resumo do tema(site)\", \n",
    "#     \"Programação(site)\", \"Palestrantes(site)\", \"ImagemURL\"\n",
    "# )"
   ]
  },
  {
   "cell_type": "code",
   "execution_count": 9,
   "metadata": {},
   "outputs": [],
   "source": [
    "#Converter DynamicFrame de volta para DataFrame do Spark\n",
    "newDf_final = newDf.toDF()"
   ]
  },
  {
   "cell_type": "code",
   "execution_count": 10,
   "metadata": {},
   "outputs": [
    {
     "name": "stdout",
     "output_type": "stream",
     "text": [
      "root\n",
      " |-- Título do evento: string (nullable = true)\n",
      " |-- Data e Horário: string (nullable = true)\n",
      " |-- Link de inscrição: string (nullable = true)\n",
      " |-- Formato: string (nullable = true)\n",
      " |-- Descrição: string (nullable = true)\n",
      " |-- Ativo: boolean (nullable = true)\n",
      " |-- Listar em Eventos Recomendados na Plataforma?: boolean (nullable = true)\n",
      " |-- Evento Privado?: boolean (nullable = true)\n",
      " |-- Publicado?: boolean (nullable = true)\n",
      " |-- Label: string (nullable = true)\n",
      " |-- Data e Horário de Término: string (nullable = true)\n",
      " |-- Local do Evento: string (nullable = true)\n",
      " |-- Evento Destaque(site): boolean (nullable = true)\n",
      " |-- Tipo de Ingresso(site): string (nullable = true)\n",
      " |-- Local(Sala/Andar)(site): string (nullable = true)\n",
      " |-- Tema(site): string (nullable = true)\n",
      " |-- Palestrantes(site): string (nullable = true)\n",
      " |-- Programação(site): string (nullable = true)\n",
      " |-- Resumo do tema(site): string (nullable = true)\n",
      " |-- ImagemURL: string (nullable = true)\n",
      "\n"
     ]
    }
   ],
   "source": [
    "#Exibir o schema para confirmar que ImagemURL está presente\n",
    "newDf_final.printSchema()"
   ]
  },
  {
   "cell_type": "code",
   "execution_count": 11,
   "metadata": {},
   "outputs": [
    {
     "name": "stdout",
     "output_type": "stream",
     "text": [
      "+--------------------------------------------------------------------------------------------------------------------------------------------------------------------------------------------------------------------------------------------------------------------------------------------------------------------------------------------------------------------------+\n",
      "|ImagemURL                                                                                                                                                                                                                                                                                                                                                                 |\n",
      "+--------------------------------------------------------------------------------------------------------------------------------------------------------------------------------------------------------------------------------------------------------------------------------------------------------------------------------------------------------------------------+\n",
      "|https://v5.airtableusercontent.com/v3/u/39/39/1742248800000/YD9B7WigytyW6kffpn0ciw/UzEIUH9qAVlXhkR2jYlmVd8B41IjYWOHp7a9MkTK0Hzh2lwRoUo-YXf664MX_T720hvD0M5X0b1CsELqO-QxsOnR05a1Qqcs0ynHB-QLtNZj-pKZDueBmMdBBOccDWbwvB_tdzTe0qi-CSkpC8zir7K-tst3Rp1aMzK6gXH1eEI5q-dyT-DHvRiYFoI99X0yEFFkCcMEpjs4iUio0yBfYZKSWzT_yfwSumO2hxMpPnQ/Hncmoup2o25NBcTsak1xP6hnDoCI25-dEqcyVnUEuNc|\n",
      "|https://v5.airtableusercontent.com/v3/u/39/39/1742248800000/3_jXrgmHmY1rx-R6aCrNXw/WvUG2dhH4lOLIWaOxoeD07-hFtaRluer4MnIulyjGJii2X7QLdQ4Bxex3wYtcjUCUsM6JnfiVg07PHgbWdjkl4hPl5aPVt6R4Ll6aVnrpT1vnExRdtVeucfKqBMqc61TDJZyQqK-GVz_zpFhRHsRC4QGkwN95bSipGu3qp4jjrY/HCJbGPC9fdgFCaSyPWexskigk8NJFjfhI8ceQ7UKMt0                                                                |\n",
      "|https://v5.airtableusercontent.com/v3/u/39/39/1742248800000/bSwD74FpJaQ-1bdUFeBlSg/xaVyScAnJelBcsPfZNRFXYjrq7rrAkXwSp6bbiEIuHzXdMo5tk0HLo-EZ3tYOEq_F_UBcw7urNpOmnsctdw8cKMrnGbQvv9Vck34y6vwHg1luOjKv_4kEEdARNh2zPiCx4AyJBcxWJaT8swqamHKsHfT_yJO9XBiFZ7AFl6DI4U/YHXQVNXENOFlKju8UBNWpGzonQ2FZ9C2c7RySJaFY_g                                                                |\n",
      "|https://v5.airtableusercontent.com/v3/u/39/39/1742248800000/eUKvWt2UhBP_VmEyes1clg/VdrN5eYBmW87Qd9z35z2aX9LwtsPipK6DhAsMdhEmpotr5fR7aZ-TwgL-wTgLG7CiTP8eVAevHe5R6d12hRGeJURzZg4-h5DQURUJ3OoL_r_gl2ihm3TLaoX4OLNBYKRykjfpnSluET0zPuwnj6KG1wLWe_fCY0SuaWVBTCcTlU6jHP6hWcY4vsyZaNk5KaD/vxqKjQVuDeHAgf7RomyLi1Qro6raY003vQg4fvU-qcI                                           |\n",
      "|https://v5.airtableusercontent.com/v3/u/39/39/1742248800000/bWY6RTaM5FwKhPuuCw9loQ/QglC0zkRH8VZWDACTAoWgFR5wk4vrGlrvivDfuzl37Te9HzH6nZof_irN8VU_caBZIMwFb0HOiJQmHGLiyIkEX6-Tuqu11VlXhA6vfuK0RDXzKCJzCVj_amQOWNEkNpzS2iz6Ny-5XKkcfUEfDoB2z3KX_Eoubo9sAJdsWbecsRr8KNy4vulwL2DrBwKNzYX/w6hCy74d7FhcyM2WcTvnNp4IzjPBGvCjpxHFOquc5TQ                                           |\n",
      "|https://v5.airtableusercontent.com/v3/u/39/39/1742248800000/Jv_eb6D5D9MQqoYicfHhkQ/gupXD1uzJZeZxo_1JKo01XRNB495xzibMRdsB4FS9KWF4hTSp-nSLQ0neZ_DtneQug3-eqM9hIqxIQq3Kz7Kzf-GOE5nTotKjC_mgWTKDe0x-zMkH6aDhTy8gFWSnIwrLp1P3La8r7zeYFBr62JBwA1HJWpoypQPBV97DHLUntECl-3cHbGgbxmABzwrl0wf/tprDpwHM0Z7t1ueSJYWFdKfvc5xVnoAGxbCXBv8jqZg                                           |\n",
      "+--------------------------------------------------------------------------------------------------------------------------------------------------------------------------------------------------------------------------------------------------------------------------------------------------------------------------------------------------------------------------+\n",
      "\n"
     ]
    }
   ],
   "source": [
    "newDf_final.select(\"ImagemURL\").show(10, truncate=False)"
   ]
  },
  {
   "cell_type": "code",
   "execution_count": 12,
   "metadata": {},
   "outputs": [
    {
     "name": "stdout",
     "output_type": "stream",
     "text": [
      "+--------------------+--------------------+--------------------+----------+--------------------+-----+---------------------------------------------+---------------+----------+--------------------+-------------------------+---------------+---------------------+----------------------+-----------------------+----------+--------------------+--------------------+--------------------+--------------------+\n",
      "|    Título do evento|      Data e Horário|   Link de inscrição|   Formato|           Descrição|Ativo|Listar em Eventos Recomendados na Plataforma?|Evento Privado?|Publicado?|               Label|Data e Horário de Término|Local do Evento|Evento Destaque(site)|Tipo de Ingresso(site)|Local(Sala/Andar)(site)|Tema(site)|  Palestrantes(site)|   Programação(site)|Resumo do tema(site)|           ImagemURL|\n",
      "+--------------------+--------------------+--------------------+----------+--------------------+-----+---------------------------------------------+---------------+----------+--------------------+-------------------------+---------------+---------------------+----------------------+-----------------------+----------+--------------------+--------------------+--------------------+--------------------+\n",
      "|Cubo Consumer Sum...|2025-03-19T14:00:...|https://online.ev...|   Híbrido|\n",
      "**Cubo Consumer ...| true|                                         true|          false|      true|71231a79-4f21-4f9...|     2025-03-19T18:00:...|      Cubo Itaú|                 true|                  Pago|   Auditório 1, 1° A...|    Varejo|                null|Cubo Consumer Sum...|Como as marcas po...|https://v5.airtab...|\n",
      "|Innovation Day - ...|2025-03-24T14:00:...|https://online.ev...|Presencial|**Energize-se com...| true|                                         true|          false|      true|7d9a6c49-36cd-471...|     2025-03-24T18:00:...|      Cubo Itaú|                 true|              Gratuito|       Sala 1, 1° Andar|   Energia|João Guillaumon -...|Vamos falar sobre...|                null|https://v5.airtab...|\n",
      "|Lançamento do Uni...|2025-03-20T15:00:...|https://lu.ma/nx1...|Presencial|**O que é o UniOn...| true|                                         true|          false|      true|c531334b-aa43-424...|     2025-03-20T18:30:...|      Cubo Itaú|                 null|              Gratuito|   Auditório 1, 1° A...|      null|                null|                null|                null|https://v5.airtab...|\n",
      "|Abertura Cubo Wel...|2025-03-19T09:00:...|https://online.ev...|Presencial|No ano em que o *...| true|                                         true|          false|      true|0b296303-a8aa-409...|     2025-03-19T11:30:...|      Cubo Itaú|                 true|              Gratuito|                   null| Bem-estar|                null|No ano em que o C...|Abertura Cubo Wel...|https://v5.airtab...|\n",
      "|Mulheres ao Cubo Day|2025-03-25T09:00:...|https://online.ev...|   Híbrido|O _Mulheres ao Cu...| true|                                         true|          false|      true|af3623d4-6e3f-426...|     2025-03-25T18:00:...|      Cubo Itaú|                 true|                  Pago|   Auditório 1, 1° A...|     Outro|                null|O Mulheres ao Cub...|Mulheres ao Cubo Day|https://v5.airtab...|\n",
      "+--------------------+--------------------+--------------------+----------+--------------------+-----+---------------------------------------------+---------------+----------+--------------------+-------------------------+---------------+---------------------+----------------------+-----------------------+----------+--------------------+--------------------+--------------------+--------------------+\n",
      "only showing top 5 rows\n",
      "\n"
     ]
    }
   ],
   "source": [
    "newDf_final.show(5)"
   ]
  },
  {
   "cell_type": "code",
   "execution_count": 13,
   "metadata": {},
   "outputs": [
    {
     "name": "stdout",
     "output_type": "stream",
     "text": [
      "Conexão bem-sucedida!\n"
     ]
    }
   ],
   "source": [
    "try:\n",
    "    connection = psycopg2.connect(\n",
    "        host=\"db-dev-poc-rds.c3dnragwy3og.us-east-1.rds.amazonaws.com\",\n",
    "        port=\"5432\",\n",
    "        database=\"db_dev_poc_rds\",\n",
    "        user=\"postgres\",\n",
    "        password=\"P06n9VDnXZ5CLlg9UNrgd6h53\"\n",
    "    )\n",
    "    print(\"Conexão bem-sucedida!\")\n",
    "    connection.close()\n",
    "except Exception as e:\n",
    "    print(f\"Erro ao conectar ao banco: {e}\")"
   ]
  },
  {
   "cell_type": "code",
   "execution_count": 14,
   "metadata": {},
   "outputs": [],
   "source": [
    "jdbc_url = \"jdbc:postgresql://db-dev-poc-rds.c3dnragwy3og.us-east-1.rds.amazonaws.com:5432/db_dev_poc_rds\"\n",
    "jdbc_properties = {\n",
    "    \"user\": \"postgres\",\n",
    "    \"password\": \"P06n9VDnXZ5CLlg9UNrgd6h53\",\n",
    "    \"driver\": \"org.postgresql.Driver\",\n",
    "    \"stringtype\": \"unspecified\"\n",
    "}"
   ]
  },
  {
   "cell_type": "code",
   "execution_count": 15,
   "metadata": {},
   "outputs": [],
   "source": [
    "from pyspark.sql.functions import col, to_timestamp\n",
    "\n",
    "newDf_final = newDf_final.select(\n",
    "    col(\"Título do evento\").alias(\"name\"),\n",
    "    to_timestamp(col(\"Data e Horário\")).alias(\"start_date\"),  # Conversão correta de data\n",
    "    col(\"Link de inscrição\").alias(\"url\"),\n",
    "    col(\"Formato\").alias(\"modality\"),\n",
    "    col(\"Descrição\").alias(\"detail\"),\n",
    "    col(\"Ativo\").cast(\"boolean\").alias(\"active\"),\n",
    "    col(\"Listar em Eventos Recomendados na Plataforma?\").cast(\"boolean\").alias(\"is_main_event\"),\n",
    "    col(\"Evento Privado?\").cast(\"boolean\").alias(\"private_event\"), \n",
    "    col(\"Publicado?\").cast(\"boolean\").alias(\"published\"), \n",
    "    col(\"Label\").alias(\"id\"),\n",
    "    to_timestamp(col(\"Data e Horário de Término\")).alias(\"end_date\"),  # Conversão correta de data\n",
    "    col(\"Local do Evento\").alias(\"address\"), \n",
    "    col(\"Evento Destaque(site)\").cast(\"boolean\").alias(\"featured_events\"), \n",
    "    col(\"Tipo de Ingresso(site)\").alias(\"ticket_type\"),\n",
    "    col(\"Local(Sala/Andar)(site)\").alias(\"room_and_floor\"),\n",
    "    col(\"Tema(site)\").alias(\"theme\"),\n",
    "    col(\"Resumo do tema(site)\").alias(\"theme_summary\"), \n",
    "    col(\"Programação(site)\").alias(\"schedule\"),\n",
    "    col(\"Palestrantes(site)\").alias(\"speakers\"),\n",
    "    col(\"ImagemURL\").alias(\"image\")\n",
    ")\n"
   ]
  },
  {
   "cell_type": "code",
   "execution_count": 16,
   "metadata": {},
   "outputs": [
    {
     "name": "stdout",
     "output_type": "stream",
     "text": [
      "+--------------------------------------------------------------------------------------------------------------------------------------------------------------------------------------------------------------------------------------------------------------------------------------------------------------------------------------------------------------------------+\n",
      "|image                                                                                                                                                                                                                                                                                                                                                                     |\n",
      "+--------------------------------------------------------------------------------------------------------------------------------------------------------------------------------------------------------------------------------------------------------------------------------------------------------------------------------------------------------------------------+\n",
      "|https://v5.airtableusercontent.com/v3/u/39/39/1742248800000/YD9B7WigytyW6kffpn0ciw/UzEIUH9qAVlXhkR2jYlmVd8B41IjYWOHp7a9MkTK0Hzh2lwRoUo-YXf664MX_T720hvD0M5X0b1CsELqO-QxsOnR05a1Qqcs0ynHB-QLtNZj-pKZDueBmMdBBOccDWbwvB_tdzTe0qi-CSkpC8zir7K-tst3Rp1aMzK6gXH1eEI5q-dyT-DHvRiYFoI99X0yEFFkCcMEpjs4iUio0yBfYZKSWzT_yfwSumO2hxMpPnQ/Hncmoup2o25NBcTsak1xP6hnDoCI25-dEqcyVnUEuNc|\n",
      "|https://v5.airtableusercontent.com/v3/u/39/39/1742248800000/3_jXrgmHmY1rx-R6aCrNXw/WvUG2dhH4lOLIWaOxoeD07-hFtaRluer4MnIulyjGJii2X7QLdQ4Bxex3wYtcjUCUsM6JnfiVg07PHgbWdjkl4hPl5aPVt6R4Ll6aVnrpT1vnExRdtVeucfKqBMqc61TDJZyQqK-GVz_zpFhRHsRC4QGkwN95bSipGu3qp4jjrY/HCJbGPC9fdgFCaSyPWexskigk8NJFjfhI8ceQ7UKMt0                                                                |\n",
      "|https://v5.airtableusercontent.com/v3/u/39/39/1742248800000/bSwD74FpJaQ-1bdUFeBlSg/xaVyScAnJelBcsPfZNRFXYjrq7rrAkXwSp6bbiEIuHzXdMo5tk0HLo-EZ3tYOEq_F_UBcw7urNpOmnsctdw8cKMrnGbQvv9Vck34y6vwHg1luOjKv_4kEEdARNh2zPiCx4AyJBcxWJaT8swqamHKsHfT_yJO9XBiFZ7AFl6DI4U/YHXQVNXENOFlKju8UBNWpGzonQ2FZ9C2c7RySJaFY_g                                                                |\n",
      "|https://v5.airtableusercontent.com/v3/u/39/39/1742248800000/eUKvWt2UhBP_VmEyes1clg/VdrN5eYBmW87Qd9z35z2aX9LwtsPipK6DhAsMdhEmpotr5fR7aZ-TwgL-wTgLG7CiTP8eVAevHe5R6d12hRGeJURzZg4-h5DQURUJ3OoL_r_gl2ihm3TLaoX4OLNBYKRykjfpnSluET0zPuwnj6KG1wLWe_fCY0SuaWVBTCcTlU6jHP6hWcY4vsyZaNk5KaD/vxqKjQVuDeHAgf7RomyLi1Qro6raY003vQg4fvU-qcI                                           |\n",
      "|https://v5.airtableusercontent.com/v3/u/39/39/1742248800000/bWY6RTaM5FwKhPuuCw9loQ/QglC0zkRH8VZWDACTAoWgFR5wk4vrGlrvivDfuzl37Te9HzH6nZof_irN8VU_caBZIMwFb0HOiJQmHGLiyIkEX6-Tuqu11VlXhA6vfuK0RDXzKCJzCVj_amQOWNEkNpzS2iz6Ny-5XKkcfUEfDoB2z3KX_Eoubo9sAJdsWbecsRr8KNy4vulwL2DrBwKNzYX/w6hCy74d7FhcyM2WcTvnNp4IzjPBGvCjpxHFOquc5TQ                                           |\n",
      "|https://v5.airtableusercontent.com/v3/u/39/39/1742248800000/Jv_eb6D5D9MQqoYicfHhkQ/gupXD1uzJZeZxo_1JKo01XRNB495xzibMRdsB4FS9KWF4hTSp-nSLQ0neZ_DtneQug3-eqM9hIqxIQq3Kz7Kzf-GOE5nTotKjC_mgWTKDe0x-zMkH6aDhTy8gFWSnIwrLp1P3La8r7zeYFBr62JBwA1HJWpoypQPBV97DHLUntECl-3cHbGgbxmABzwrl0wf/tprDpwHM0Z7t1ueSJYWFdKfvc5xVnoAGxbCXBv8jqZg                                           |\n",
      "+--------------------------------------------------------------------------------------------------------------------------------------------------------------------------------------------------------------------------------------------------------------------------------------------------------------------------------------------------------------------------+\n",
      "\n"
     ]
    }
   ],
   "source": [
    "newDf_final.select(\"image\").show(10, truncate=False)"
   ]
  },
  {
   "cell_type": "code",
   "execution_count": 17,
   "metadata": {},
   "outputs": [
    {
     "name": "stdout",
     "output_type": "stream",
     "text": [
      "+------------------------------------------------------------+\n",
      "|theme_summary                                               |\n",
      "+------------------------------------------------------------+\n",
      "|Como as marcas podem impulsionar e escalar as vendas online.|\n",
      "|null                                                        |\n",
      "|null                                                        |\n",
      "|Abertura Cubo Wellbeing                                     |\n",
      "|Mulheres ao Cubo Day                                        |\n",
      "|null                                                        |\n",
      "+------------------------------------------------------------+\n",
      "\n"
     ]
    }
   ],
   "source": [
    "newDf_final.select(\"theme_summary\").show(10, truncate=False)"
   ]
  },
  {
   "cell_type": "code",
   "execution_count": 18,
   "metadata": {},
   "outputs": [
    {
     "name": "stdout",
     "output_type": "stream",
     "text": [
      "+------------------------------------+\n",
      "|id                                  |\n",
      "+------------------------------------+\n",
      "|71231a79-4f21-4f97-b482-ced2553f1f62|\n",
      "|7d9a6c49-36cd-4716-a7f5-ff575b599097|\n",
      "|c531334b-aa43-424b-8d68-5357707f2bdc|\n",
      "|0b296303-a8aa-4099-9345-1452932d3513|\n",
      "|af3623d4-6e3f-426c-b6d4-618430f8240b|\n",
      "|798bf5a3-388d-468f-9146-92462a488fb3|\n",
      "+------------------------------------+\n",
      "\n"
     ]
    }
   ],
   "source": [
    "newDf_final.select(\"id\").show(10, truncate=False)"
   ]
  },
  {
   "cell_type": "code",
   "execution_count": null,
   "metadata": {},
   "outputs": [],
   "source": []
  },
  {
   "cell_type": "code",
   "execution_count": 19,
   "metadata": {},
   "outputs": [
    {
     "name": "stdout",
     "output_type": "stream",
     "text": [
      "+----------------------------------------------------------------------------------+-------------------+-------------------------------------------------------------------------------------------------+----------+-----------------------------------------------------------------------------------------------------------------------------------------------------------------------------------------------------------------------------------------------------------------------------------------------------------------------------------------------------------------------------------------------------------------------------------------------------------------------------------------------------------------------------------------------------------------------------------------------------------------------------------------------------------------------------------------------------------------------------------------------------------------------------------------------------------------------------------------------------------------------------------------------------------------------------------------------------------------------------------------------------------------------------------------------------------------------------------------------------------------------------------------------------------------------------------------------------------------------------------------------------------------------------------------------------------------------------------------------------------------------------------------------------------------------------------------------------------------------------------------------------------------------------------------------------------------------------------------------------------------------------------------------------------------------------------------------------------------------------------------------------------------------------------------------------------------------------------------------+------+-------------+-------------+---------+------------------------------------+-------------------+---------+---------------+-----------+---------------------+---------+------------------------------------------------------------+-------------------------------------------------------------------------------------------------------------------------------------------------------------------------------------------------------------------------------------------------------------------------------------------------------------------------------------------------------------------------------------------------------------------------------------------------------------------------------------------------------------------------------------------------------------------------------------------------------------------------------------------------------------------------------------------------------------------------------------------------------------------------------------------------------------------------------------------------------------------------------------------------------------------------------------------------------------------------------------------------------------------------------------------------------------------------------------------------------------------------------------------------------------------------------------------------------------------------------------------------------------------------------------------------------------------------------------------------------------------------------------------------------------------------------------------------------------------------------------------------------------------------------------------------------------------------------------------------------------------------------------------------------------------------------------------------------------------------------------------------------------------------------------------------------------------+-----------------------------------------------------------------------------------------------------------------------------+--------------------------------------------------------------------------------------------------------------------------------------------------------------------------------------------------------------------------------------------------------------------------------------------------------------------------------------------------------------------------+\n",
      "|name                                                                              |start_date         |url                                                                                              |modality  |detail                                                                                                                                                                                                                                                                                                                                                                                                                                                                                                                                                                                                                                                                                                                                                                                                                                                                                                                                                                                                                                                                                                                                                                                                                                                                                                                                                                                                                                                                                                                                                                                                                                                                                                                                                                                                                                         |active|is_main_event|private_event|published|id                                  |end_date           |address  |featured_events|ticket_type|room_and_floor       |theme    |theme_summary                                               |schedule                                                                                                                                                                                                                                                                                                                                                                                                                                                                                                                                                                                                                                                                                                                                                                                                                                                                                                                                                                                                                                                                                                                                                                                                                                                                                                                                                                                                                                                                                                                                                                                                                                                                                                                                                                                                           |speakers                                                                                                                     |image                                                                                                                                                                                                                                                                                                                                                                     |\n",
      "+----------------------------------------------------------------------------------+-------------------+-------------------------------------------------------------------------------------------------+----------+-----------------------------------------------------------------------------------------------------------------------------------------------------------------------------------------------------------------------------------------------------------------------------------------------------------------------------------------------------------------------------------------------------------------------------------------------------------------------------------------------------------------------------------------------------------------------------------------------------------------------------------------------------------------------------------------------------------------------------------------------------------------------------------------------------------------------------------------------------------------------------------------------------------------------------------------------------------------------------------------------------------------------------------------------------------------------------------------------------------------------------------------------------------------------------------------------------------------------------------------------------------------------------------------------------------------------------------------------------------------------------------------------------------------------------------------------------------------------------------------------------------------------------------------------------------------------------------------------------------------------------------------------------------------------------------------------------------------------------------------------------------------------------------------------------------------------------------------------+------+-------------+-------------+---------+------------------------------------+-------------------+---------+---------------+-----------+---------------------+---------+------------------------------------------------------------+-------------------------------------------------------------------------------------------------------------------------------------------------------------------------------------------------------------------------------------------------------------------------------------------------------------------------------------------------------------------------------------------------------------------------------------------------------------------------------------------------------------------------------------------------------------------------------------------------------------------------------------------------------------------------------------------------------------------------------------------------------------------------------------------------------------------------------------------------------------------------------------------------------------------------------------------------------------------------------------------------------------------------------------------------------------------------------------------------------------------------------------------------------------------------------------------------------------------------------------------------------------------------------------------------------------------------------------------------------------------------------------------------------------------------------------------------------------------------------------------------------------------------------------------------------------------------------------------------------------------------------------------------------------------------------------------------------------------------------------------------------------------------------------------------------------------+-----------------------------------------------------------------------------------------------------------------------------+--------------------------------------------------------------------------------------------------------------------------------------------------------------------------------------------------------------------------------------------------------------------------------------------------------------------------------------------------------------------------+\n",
      "|Cubo Consumer Summit – E-commerce e Marketplace 📲 🛒🛍                           |2025-03-19 14:00:00|https://online.evnts.com.br/evento/Cubo-Consumer-Summit                                          |Híbrido   |\n",
      "**Cubo Consumer Summit – E-commerce e Marketplace 📲 🛒🛍**\n",
      "\n",
      "Um evento para explorar a jornada do varejo digital, a integração de canais e estratégias omnichannel. Com cases de RD Saúde e Natura, além de debates sobre como vender mais em marketplaces, o evento traz insights práticos para quem quer crescer no digital.\n",
      "\n",
      "Confira a programação:\n",
      "\n",
      "**13:15 - 14:00 Credenciamento**\n",
      "\n",
      "**14:00 - 14:15 Boas-vindas do Cubo Consumer**\n",
      "\n",
      "**14:15 - 15:15 A Jornada Digital da RD Saúde: Lições do maior varejo farmacêutico do país**\n",
      "Descubra como a RD Saúde enfrentou desafios e aproveitou oportunidades na sua transformação digital. Neste painel, a Diretora de E-commerce da RD Saúde, Luciana Mioto, compartilhará estratégias, tecnologias implementadas e os resultados alcançados, trazendo insights valiosos para varejistas.\n",
      "\n",
      "**15:15 - 16:15 Marketplaces: Os desafios para escalar as vendas nos marketplaces digitais**\n",
      "Descubra como marcas e indústrias podem superar desafios e escalar vendas nos marketplaces. Neste painel, especialistas do setor, Claudio Dias, founder da Magis5, e Guilherme, founder da Dolado, discutem barreiras operacionais, integração de plataformas e estratégias usadas por grandes sellers para crescer e faturar mais nos marketplaces.\n",
      "\n",
      "16:15 - 16:45 Coffee\n",
      "\n",
      "**16:45 - 17:45 Case: Como a transformação digital revolucionou o modelo de negócios da Natura**\n",
      "Descubra como a Natura reinventou sua estratégia no digital! Murillo Boccia que participou da transformação digital da Natura, compartilha os desafios, iniciativas e impactos dessa transformação, revelando como inovação e tecnologia impulsionaram um modelo de negócios tradicional.\n",
      "\n",
      "**17:45 - 18:00 Encerramento**\n",
      "\n",
      "\n",
      "Agradecimentos dos organizadores aos palestrantes, participantes, patrocinadores e equipe.\n",
      "|true  |true         |false        |true     |71231a79-4f21-4f97-b482-ced2553f1f62|2025-03-19 18:00:00|Cubo Itaú|true           |Pago       |Auditório 1, 1° Andar|Varejo   |Como as marcas podem impulsionar e escalar as vendas online.|Cubo Consumer Summit – E-commerce e Marketplace 📲 🛒🛍\n",
      "\n",
      "Um evento para explorar a jornada do varejo digital, a integração de canais e estratégias omnichannel. Com cases de RD Saúde e Natura, além de debates sobre como vender mais em marketplaces, o evento traz insights práticos para quem quer crescer no digital.\n",
      "\n",
      "\n",
      "Confira a programação:\n",
      "\n",
      "13:15 - 14:00 Credenciamento\n",
      "\n",
      "14:00 - 14:15 Boas-vindas do Cubo Consumer\n",
      "\n",
      "14:15 - 15:15 A Jornada Digital da RD Saúde: Lições do maior varejo farmacêutico do país\n",
      "\n",
      "Descubra como a RD Saúde enfrentou desafios e aproveitou oportunidades na sua transformação digital. Neste painel, a Diretora de E-commerce da RD Saúde, Luciana Mioto, compartilhará estratégias, tecnologias implementadas e os resultados alcançados, trazendo insights valiosos para varejistas.\n",
      "\n",
      "15:15 - 16:15 Marketplaces: Os desafios para escalar as vendas nos marketplaces digitais\n",
      "\n",
      "Descubra como marcas e indústrias podem superar desafios e escalar vendas nos marketplaces. Neste painel, especialistas do setor, Claudio Dias, founder da Magis5, e Guilherme, founder da Dolado, discutem barreiras operacionais, integração de plataformas e estratégias usadas por grandes sellers para crescer e faturar mais nos marketplaces.\n",
      "\n",
      "16:15 - 16:45 Coffee\n",
      "\n",
      "16:45 - 17:45 Case: Como a transformação digital revolucionou o modelo de negócios da Natura\n",
      "\n",
      "Descubra como a Natura reinventou sua estratégia no digital! Murillo Boccia que participou da transformação digital da Natura, compartilha os desafios, iniciativas e impactos dessa transformação, revelando como inovação e tecnologia impulsionaram um modelo de negócios tradicional.\n",
      "\n",
      "17:45 - 18:00 Encerramento\n",
      "Agradecimentos dos organizadores aos palestrantes, participantes, patrocinadores e equipe.|null                                                                                                                         |https://v5.airtableusercontent.com/v3/u/39/39/1742248800000/YD9B7WigytyW6kffpn0ciw/UzEIUH9qAVlXhkR2jYlmVd8B41IjYWOHp7a9MkTK0Hzh2lwRoUo-YXf664MX_T720hvD0M5X0b1CsELqO-QxsOnR05a1Qqcs0ynHB-QLtNZj-pKZDueBmMdBBOccDWbwvB_tdzTe0qi-CSkpC8zir7K-tst3Rp1aMzK6gXH1eEI5q-dyT-DHvRiYFoI99X0yEFFkCcMEpjs4iUio0yBfYZKSWzT_yfwSumO2hxMpPnQ/Hncmoup2o25NBcTsak1xP6hnDoCI25-dEqcyVnUEuNc|\n",
      "|Innovation Day - Auren                                                            |2025-03-24 14:00:00|https://online.evnts.com.br/evento/Innovation-Day-Auren                                          |Presencial|**Energize-se com a Auren**\n",
      "Vamos falar sobre energia? A Auren te convida para participar de um painel sobre as tendências do setor de energia elétrica para os próximos anos, sua atuação e explorar oportunidades para acelerar a transição energética junto ao ecossistema de inovação.\n",
      " \n",
      "Data: **24/03**\n",
      "Horário: **14:00**\n",
      "Local: **Sala 1, Cubo Itaú**\n",
      " \n",
      "**Confira a programação prévia:**\n",
      " \n",
      "14:00 – **Boas-vindas** _por Gabriella Procópio, líder do Cubo Energy_\n",
      "\n",
      "14:05 – **Apresentação Institucional Auren** – _Como nos tornamos líder em comercialização de energia e a terceira maior geradora do país por João Guillaumon, Dir. de Estratégia, Inovação e Realização de Valor da Auren_\n",
      "\n",
      "14:30 – **Visão de futuro e Estratégia de Inovação** – _Onde queremos chegar e quais são as nossas verticais de atuação por Julia Rodrigues, Gerente de Inovação da Auren_\n",
      "\n",
      "15:15 – **_Coffee Break_**\n",
      "\n",
      "15:30 – **_Roundtables_ nos temas de interesse** com a participação de especialistas da Auren\n",
      "Mesa 1: Eficiência em Energia Renovável - _Tornar processos mais eficientes, seguros e sustentáveis_\n",
      "Mesa 2: Crescimento da Comercializadora - _Desenvolver soluções de valor agregado baseadas nas dores de clientes_\n",
      "Mesa 3: Além da Geração - _Explorar oportunidades de negócios além da energia_\n",
      "\n",
      "16:15 – **Consolidação das discussões**\n",
      "\n",
      "16:30 – **Encerramento**\n",
      " \n",
      "Não perca essa oportunidade e se inscreva já!\n",
      "                                                                                                                                                                                                                                                                                                                                                                                                        |true  |true         |false        |true     |7d9a6c49-36cd-4716-a7f5-ff575b599097|2025-03-24 18:00:00|Cubo Itaú|true           |Gratuito   |Sala 1, 1° Andar     |Energia  |null                                                        |Vamos falar sobre energia? A Auren te convida para participar de um painel sobre as tendências do setor de energia elétrica para os próximos anos, sua atuação e explorar oportunidades para acelerar a transição energética junto ao ecossistema de inovação.                                                                                                                                                                                                                                                                                                                                                                                                                                                                                                                                                                                                                                                                                                                                                                                                                                                                                                                                                                                                                                                                                                                                                                                                                                                                                                                                                                                                                                                                                                                                                     |João Guillaumon -Dir. de Estratégia, Inovação e Realização de Valor da Auren e Julia Rodrigues - Gerente de Inovação da Auren|https://v5.airtableusercontent.com/v3/u/39/39/1742248800000/3_jXrgmHmY1rx-R6aCrNXw/WvUG2dhH4lOLIWaOxoeD07-hFtaRluer4MnIulyjGJii2X7QLdQ4Bxex3wYtcjUCUsM6JnfiVg07PHgbWdjkl4hPl5aPVt6R4Ll6aVnrpT1vnExRdtVeucfKqBMqc61TDJZyQqK-GVz_zpFhRHsRC4QGkwN95bSipGu3qp4jjrY/HCJbGPC9fdgFCaSyPWexskigk8NJFjfhI8ceQ7UKMt0                                                                |\n",
      "|Lançamento do UniOn 03                                                            |2025-03-20 15:00:00|https://lu.ma/nx1fkya2                                                                           |Presencial|**O que é o UniOn?** Programa de Inovação Aberta da Linha Uni, criado a partir do pilar de Inovação do Estação Sustentar, Programa de Sustentabilidade da Linha Uni. O objetivo do UniOn é buscar _startups_ que tenham soluções inovadoras para agregar mais valor ao negócio, contribuindo positivamente para a resolução dos desafios da construção e da futura operação da Linha 6, além de incentivar o crescimento do empreendedorismo das comunidades ao redor da futura linha de metrô. Essas soluções serão testadas e validadas durante a realização de um projeto piloto remunerado com duração de 3 meses.\n",
      "\n",
      "**Objetivo do evento**: Divulgação do Lançamento do UniOn 03, apresentando os desafios que compõem essa atual edição e reforçar a importância da inovação dentro da Linha Uni.\n",
      "\n",
      "**Agenda do Evento: **\n",
      "- 15:00 -15:30: Recepção + _coffee-break_\n",
      "- 15:30 - 17:00: Evento\n",
      "    - Boas-vindas e abertura institucional (Innoscience, ACCIONA e Linha Uni): 10 min\n",
      "    - Highlights das edições anteriores do programa (Innoscience + Startups): 15 min\n",
      "    - Depoimento Cubo sobre conexão com Corporações e Startups (Cubo): 15 min\n",
      "    - Metodologia do programa e dinâmica de seleção (Innoscience): 10 min\n",
      "    - Apresentação dos desafios pelos líderes (Times dos desafios - Linha Uni): 20 min\n",
      "    - Momento Q&A: 20 min\n",
      "- Coquetel: 17:00 -18:00\n",
      "\n",
      "                                                                                                                                                                                                                                                                                                                                                                                                                                                                |true  |true         |false        |true     |c531334b-aa43-424b-8d68-5357707f2bdc|2025-03-20 18:30:00|Cubo Itaú|null           |Gratuito   |Auditório 1, 1° Andar|null     |null                                                        |null                                                                                                                                                                                                                                                                                                                                                                                                                                                                                                                                                                                                                                                                                                                                                                                                                                                                                                                                                                                                                                                                                                                                                                                                                                                                                                                                                                                                                                                                                                                                                                                                                                                                                                                                                                                                               |null                                                                                                                         |https://v5.airtableusercontent.com/v3/u/39/39/1742248800000/bSwD74FpJaQ-1bdUFeBlSg/xaVyScAnJelBcsPfZNRFXYjrq7rrAkXwSp6bbiEIuHzXdMo5tk0HLo-EZ3tYOEq_F_UBcw7urNpOmnsctdw8cKMrnGbQvv9Vck34y6vwHg1luOjKv_4kEEdARNh2zPiCx4AyJBcxWJaT8swqamHKsHfT_yJO9XBiFZ7AFl6DI4U/YHXQVNXENOFlKju8UBNWpGzonQ2FZ9C2c7RySJaFY_g                                                                |\n",
      "|Abertura Cubo Wellbeing                                                           |2025-03-19 09:00:00|https://online.evnts.com.br/evento/cubo-wellbeing                                                |Presencial|No ano em que o **Cubo Itaú celebra 10 anos**, o foco será o **bem-estar e a longevidade**. Para isso, jornada Cubo Wellbeing foi desenvolvida com o objetivo de avaliar hábitos e estilos de vida, além de incentivar a prática de esportes em comunidade.\n",
      "\n",
      "**09:00 - 09:30 - Welcome Coffee**\n",
      "Recepção dos participantes com um momento de networking acompanhado de café da manhã especial.\n",
      "\n",
      "**09:30 - 10:00 - Institucional Cubo Itaú**\n",
      "Entenda o propósito e a jornada do Cubo Wellbeing, uma iniciativa voltada ao bem-estar e longevidade dentro do ecossistema de inovação.\n",
      "\n",
      "**10:00 - 10:30 - Talk com Fabiano Zettel (CEO Moriah Asset)**\n",
      "Um bate-papo inspirador com Fabiano Zettel, CEO da Moriah Asset, sobre a importância da saúde física e mental para alta performance no ambiente corporativo e empreendedor.\n",
      "\n",
      "**10:30 - 11:15 - Painel com Júlio César Agripino dos Santos (Medalhista de Ouro das Paralimpíadas)**\n",
      "Uma conversa motivadora com Júlio César Agripino, atleta paralímpico, que compartilhará sua trajetória de superação, disciplina e resiliência no esporte e na vida.\n",
      "\n",
      "**11:15 - 11:30 - Encerramento**\n",
      "Fechamento do evento com agradecimentos e convite para participação nas próximas iniciativas do Cubo Wellbeing.\n",
      "                                                                                                                                                                                                                                                                                                                                                                                                                                                                                                                                                                                  |true  |true         |false        |true     |0b296303-a8aa-4099-9345-1452932d3513|2025-03-19 11:30:00|Cubo Itaú|true           |Gratuito   |null                 |Bem-estar|Abertura Cubo Wellbeing                                     |No ano em que o Cubo Itaú celebra 10 anos, o foco será o bem-estar e a longevidade. Para isso, jornada Cubo Wellbeing foi desenvolvida com o objetivo de avaliar hábitos e estilos de vida, além de incentivar a prática de esportes em comunidade.\n",
      "\n",
      "09:00 - 09:30 - Welcome Coffee\n",
      "Recepção dos participantes com um momento de networking acompanhado de café da manhã especial.\n",
      "\n",
      "09:30 - 10:00 - Institucional Cubo Itaú\n",
      "Entenda o propósito e a jornada do Cubo Wellbeing, uma iniciativa voltada ao bem-estar e longevidade dentro do ecossistema de inovação.\n",
      "\n",
      "10:00 - 10:30 - Talk com Fabiano Zettel (CEO Moriah Asset)\n",
      "Um bate-papo inspirador com Fabiano Zettel, CEO da Moriah Asset, sobre a importância da saúde física e mental para alta performance no ambiente corporativo e empreendedor.\n",
      "\n",
      "10:30 - 11:15 - Painel com Júlio César Agripino dos Santos (Medalhista de Ouro das Paralimpíadas)\n",
      "Uma conversa motivadora com Júlio César Agripino, atleta paralímpico, que compartilhará sua trajetória de superação, disciplina e resiliência no esporte e na vida.\n",
      "\n",
      "11:15 - 11:30 - Encerramento\n",
      "Fechamento do evento com agradecimentos e convite para participação nas próximas iniciativas do Cubo Wellbeing.                                                                                                                                                                                                                                                                                                                                                                                                                                                                                                                                                                                   |null                                                                                                                         |https://v5.airtableusercontent.com/v3/u/39/39/1742248800000/eUKvWt2UhBP_VmEyes1clg/VdrN5eYBmW87Qd9z35z2aX9LwtsPipK6DhAsMdhEmpotr5fR7aZ-TwgL-wTgLG7CiTP8eVAevHe5R6d12hRGeJURzZg4-h5DQURUJ3OoL_r_gl2ihm3TLaoX4OLNBYKRykjfpnSluET0zPuwnj6KG1wLWe_fCY0SuaWVBTCcTlU6jHP6hWcY4vsyZaNk5KaD/vxqKjQVuDeHAgf7RomyLi1Qro6raY003vQg4fvU-qcI                                           |\n",
      "|Mulheres ao Cubo Day                                                              |2025-03-25 09:00:00|https://online.evnts.com.br/evento/Mulheres-ao-Cubo-Day                                          |Híbrido   |O _Mulheres ao Cubo Day – Powered by Cubo Diversidade_ é um evento dedicado a promover insights e fortalecer a conexão entre mulheres. Com uma programação que inclui debates sobre desafios, oportunidades no mercado, geração de negócios, bem-estar e saúde mental, o evento oferece um espaço para troca de experiências e networking. É uma oportunidade única para ampliar sua rede, se inspirar com trajetórias de sucesso e fortalecer sua liderança no ambiente profissional.\n",
      "\n",
      "**Confira a programação**\n",
      "09:00 - 09:15 - Abertura + Download SXSW\n",
      "Momento de abertura do evento e principais insghts do SXSW em D&I\n",
      "\n",
      "09:15 - 10:00 - Exibição do documentário Mar de Mães Powered by B2Mamy\n",
      "Mar de Mães: Um curta-metragem que aborda a perda de identidade quando nos tornamos mães, a sobrecarga, a saúde mental da mulher que se torna mãe. Um filme que fala sobre amizade e como a rede de apoio é importante para o renascimento da mãe-mulher. Mar de Mães chega como um respiro, um aconchego e a partir dele, ações contínuas se seguem e conectam mulheres na comunidade.\n",
      "\n",
      "10:00 - 11:00 - Painel Liderança e Empreendedorismo Feminino\n",
      "Simone Sancho - Founder e CEO @ Belong Be\n",
      "Mona Oliveira - Founder e CEO @ Biolinker\n",
      "Ivone Matjas - Gerente de saúde e bem-estar @ Itaú Unibanco\n",
      "\n",
      "15:00 - 15:30 - Palestra Keynote Karina Sato\n",
      "Karina Sato é empresária e sócia-fundadora de Sato Rahal, agência de talentos responsável pela gestão de carreiras de diversos artistas no Brasil. Com ampla experiência no setor de entretenimento, atua estrategicamente no gerenciamento de imagem, parcerias e negócios. Sua expertise em branding e relacionamento com marcas consolida sua posição como uma das principais empresárias do meio artístico.\n",
      "\n",
      "                                                                     |true  |true         |false        |true     |af3623d4-6e3f-426c-b6d4-618430f8240b|2025-03-25 18:00:00|Cubo Itaú|true           |Pago       |Auditório 1, 1° Andar|Outro    |Mulheres ao Cubo Day                                        |O Mulheres ao Cubo Day – Powered by Cubo Diversidade é um evento dedicado a promover insights e fortalecer a conexão entre mulheres. Com uma programação que inclui debates sobre desafios, oportunidades no mercado, geração de negócios, bem-estar e saúde mental, o evento oferece um espaço para troca de experiências e networking. É uma oportunidade única para ampliar sua rede, se inspirar com trajetórias de sucesso e fortalecer sua liderança no ambiente profissional.                                                                                                                                                                                                                                                                                                                                                                                                                                                                                                                                                                                                                                                                                                                                                                                                                                                                                                                                                                                                                                                                                                                                                                                                                                                                                                                               |null                                                                                                                         |https://v5.airtableusercontent.com/v3/u/39/39/1742248800000/bWY6RTaM5FwKhPuuCw9loQ/QglC0zkRH8VZWDACTAoWgFR5wk4vrGlrvivDfuzl37Te9HzH6nZof_irN8VU_caBZIMwFb0HOiJQmHGLiyIkEX6-Tuqu11VlXhA6vfuK0RDXzKCJzCVj_amQOWNEkNpzS2iz6Ny-5XKkcfUEfDoB2z3KX_Eoubo9sAJdsWbecsRr8KNy4vulwL2DrBwKNzYX/w6hCy74d7FhcyM2WcTvnNp4IzjPBGvCjpxHFOquc5TQ                                           |\n",
      "|Inteligência Marítima e Portuária: Eficiência e Automação na Nova Era da Logística|2025-03-19 15:00:00|https://online.evnts.com.br/evento/Efici%C3%AAncia-e-Automa-%C3%A3o-na-Nova-Era-da-Log%C3%ADstica|Online    |A indústria marítima e portuária enfrenta desafios complexos de eficiência, custo e sustentabilidade. Nesse cenário, a tecnologia redefine operações, impulsionando automação, rastreabilidade e otimização logística. Este Demoday trará startups com soluções práticas e inovadoras para acelerar a transformação digital do setor.\n",
      "\n",
      "**15:00 - 15:04: Abertura**\n",
      "Uma introdução sobre o Cubo Itaú, a importância da inovação no setor marítimo e um panorama do evento.\n",
      "\n",
      "**15:05 - 15:15: Keynote Relâmpago - \"O Futuro da Logística Portuária e Marítima\"**\n",
      "Um especialista do setor trará insights rápidos e diretos sobre os principais desafios e oportunidades para inovação na logística portuária.\n",
      "\n",
      "**15:15 - 15:55: Pitch das Startups**\n",
      "As startups participantes serão reveladas em breve! Quatro startups apresentarão suas soluções tecnológicas para otimizar operações, rastreabilidade e automação no setor marítimo e portuário.\n",
      "Formato: 10 minutos para cada startup apresentar sua solução.\n",
      "\n",
      "**15:55 - 16:00: Encerramento**\n",
      "                                                                                                                                                                                                                                                                                                                                                                                                                                                                                                                                                                                                                                                                                                                                                                                             |true  |true         |false        |true     |798bf5a3-388d-468f-9146-92462a488fb3|2025-03-19 18:00:00|Cubo Itaú|null           |null       |null                 |null     |null                                                        |null                                                                                                                                                                                                                                                                                                                                                                                                                                                                                                                                                                                                                                                                                                                                                                                                                                                                                                                                                                                                                                                                                                                                                                                                                                                                                                                                                                                                                                                                                                                                                                                                                                                                                                                                                                                                               |null                                                                                                                         |https://v5.airtableusercontent.com/v3/u/39/39/1742248800000/Jv_eb6D5D9MQqoYicfHhkQ/gupXD1uzJZeZxo_1JKo01XRNB495xzibMRdsB4FS9KWF4hTSp-nSLQ0neZ_DtneQug3-eqM9hIqxIQq3Kz7Kzf-GOE5nTotKjC_mgWTKDe0x-zMkH6aDhTy8gFWSnIwrLp1P3La8r7zeYFBr62JBwA1HJWpoypQPBV97DHLUntECl-3cHbGgbxmABzwrl0wf/tprDpwHM0Z7t1ueSJYWFdKfvc5xVnoAGxbCXBv8jqZg                                           |\n",
      "+----------------------------------------------------------------------------------+-------------------+-------------------------------------------------------------------------------------------------+----------+-----------------------------------------------------------------------------------------------------------------------------------------------------------------------------------------------------------------------------------------------------------------------------------------------------------------------------------------------------------------------------------------------------------------------------------------------------------------------------------------------------------------------------------------------------------------------------------------------------------------------------------------------------------------------------------------------------------------------------------------------------------------------------------------------------------------------------------------------------------------------------------------------------------------------------------------------------------------------------------------------------------------------------------------------------------------------------------------------------------------------------------------------------------------------------------------------------------------------------------------------------------------------------------------------------------------------------------------------------------------------------------------------------------------------------------------------------------------------------------------------------------------------------------------------------------------------------------------------------------------------------------------------------------------------------------------------------------------------------------------------------------------------------------------------------------------------------------------------+------+-------------+-------------+---------+------------------------------------+-------------------+---------+---------------+-----------+---------------------+---------+------------------------------------------------------------+-------------------------------------------------------------------------------------------------------------------------------------------------------------------------------------------------------------------------------------------------------------------------------------------------------------------------------------------------------------------------------------------------------------------------------------------------------------------------------------------------------------------------------------------------------------------------------------------------------------------------------------------------------------------------------------------------------------------------------------------------------------------------------------------------------------------------------------------------------------------------------------------------------------------------------------------------------------------------------------------------------------------------------------------------------------------------------------------------------------------------------------------------------------------------------------------------------------------------------------------------------------------------------------------------------------------------------------------------------------------------------------------------------------------------------------------------------------------------------------------------------------------------------------------------------------------------------------------------------------------------------------------------------------------------------------------------------------------------------------------------------------------------------------------------------------------+-----------------------------------------------------------------------------------------------------------------------------+--------------------------------------------------------------------------------------------------------------------------------------------------------------------------------------------------------------------------------------------------------------------------------------------------------------------------------------------------------------------------+\n",
      "\n"
     ]
    }
   ],
   "source": [
    "newDf_final.show(truncate=False)"
   ]
  },
  {
   "cell_type": "code",
   "execution_count": 20,
   "metadata": {},
   "outputs": [
    {
     "name": "stdout",
     "output_type": "stream",
     "text": [
      "root\n",
      " |-- name: string (nullable = true)\n",
      " |-- start_date: timestamp (nullable = true)\n",
      " |-- url: string (nullable = true)\n",
      " |-- modality: string (nullable = true)\n",
      " |-- detail: string (nullable = true)\n",
      " |-- active: boolean (nullable = true)\n",
      " |-- is_main_event: boolean (nullable = true)\n",
      " |-- private_event: boolean (nullable = true)\n",
      " |-- published: boolean (nullable = true)\n",
      " |-- id: string (nullable = true)\n",
      " |-- end_date: timestamp (nullable = true)\n",
      " |-- address: string (nullable = true)\n",
      " |-- featured_events: boolean (nullable = true)\n",
      " |-- ticket_type: string (nullable = true)\n",
      " |-- room_and_floor: string (nullable = true)\n",
      " |-- theme: string (nullable = true)\n",
      " |-- theme_summary: string (nullable = true)\n",
      " |-- schedule: string (nullable = true)\n",
      " |-- speakers: string (nullable = true)\n",
      " |-- image: string (nullable = true)\n",
      "\n"
     ]
    }
   ],
   "source": [
    "newDf_final.printSchema()"
   ]
  },
  {
   "cell_type": "code",
   "execution_count": 21,
   "metadata": {},
   "outputs": [
    {
     "name": "stdout",
     "output_type": "stream",
     "text": [
      "+-------------------+-------------------+\n",
      "|start_date         |end_date           |\n",
      "+-------------------+-------------------+\n",
      "|2025-03-19 14:00:00|2025-03-19 18:00:00|\n",
      "|2025-03-24 14:00:00|2025-03-24 18:00:00|\n",
      "|2025-03-20 15:00:00|2025-03-20 18:30:00|\n",
      "|2025-03-19 09:00:00|2025-03-19 11:30:00|\n",
      "|2025-03-25 09:00:00|2025-03-25 18:00:00|\n",
      "|2025-03-19 15:00:00|2025-03-19 18:00:00|\n",
      "+-------------------+-------------------+\n",
      "\n"
     ]
    }
   ],
   "source": [
    "newDf_final.select(\"start_date\", \"end_date\").show(truncate=False)"
   ]
  },
  {
   "cell_type": "code",
   "execution_count": null,
   "metadata": {},
   "outputs": [],
   "source": [
    "# newDf.limit(1).write.jdbc(\n",
    "#     url=jdbc_url,\n",
    "#     table=\"events_glue\",\n",
    "#     mode=\"append\",\n",
    "#     properties=jdbc_properties\n",
    "# )"
   ]
  },
  {
   "cell_type": "code",
   "execution_count": 22,
   "metadata": {},
   "outputs": [],
   "source": [
    "newDf_final.write.jdbc(\n",
    "        url=jdbc_url,\n",
    "        table=\"events\",\n",
    "        mode=\"append\",  # Adiciona os registros sem sobrescrever\n",
    "        properties=jdbc_properties\n",
    ")"
   ]
  }
 ],
 "metadata": {
  "kernelspec": {
   "display_name": "Python 3",
   "language": "python",
   "name": "python3"
  },
  "language_info": {
   "codemirror_mode": {
    "name": "ipython",
    "version": 3
   },
   "file_extension": ".py",
   "mimetype": "text/x-python",
   "name": "python",
   "nbconvert_exporter": "python",
   "pygments_lexer": "ipython3",
   "version": "3.7.16"
  },
  "orig_nbformat": 4
 },
 "nbformat": 4,
 "nbformat_minor": 2
}
