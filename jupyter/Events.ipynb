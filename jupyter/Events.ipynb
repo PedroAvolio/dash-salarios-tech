{
 "cells": [
  {
   "cell_type": "code",
   "execution_count": 1,
   "metadata": {},
   "outputs": [],
   "source": [
    "from pyspark.context import SparkContext\n",
    "from awsglue.context import GlueContext\n",
    "from awsglue.job import Job\n",
    "from awsglue.utils import getResolvedOptions\n",
    "from awsglue.dynamicframe import DynamicFrame\n",
    "from pyspark.sql.functions import col, udf, struct\n",
    "from pyspark.sql.types import StringType\n",
    "from awsglue.transforms import Map, DropFields, ApplyMapping\n",
    "import psycopg2\n",
    "\n",
    "sc = SparkContext()\n",
    "context = GlueContext(sc)"
   ]
  },
  {
   "cell_type": "code",
   "execution_count": 2,
   "metadata": {},
   "outputs": [
    {
     "name": "stdout",
     "output_type": "stream",
     "text": [
      "s3://network.cubo.datalake/airtable/raw/prod/2025-03-17-18-05-57/data/Calendário de Eventos Cubo/Events/Plataforma Cubo Network/\n"
     ]
    },
    {
     "data": {
      "text/plain": [
       "6"
      ]
     },
     "execution_count": 2,
     "metadata": {},
     "output_type": "execute_result"
    }
   ],
   "source": [
    "path = \"s3://network.cubo.datalake/airtable/raw/prod/\"\n",
    "path = path + \"2025-03-17-18-05-57/data/\"\n",
    "path = path + \"Calendário de Eventos Cubo/Events/Plataforma Cubo Network/\"\n",
    "print(path)\n",
    "dataframeBaseEventos = context.create_dynamic_frame.from_options(\n",
    "                connection_type='s3',\n",
    "                connection_options={\n",
    "                    'paths': [path],\n",
    "                    'recurse': True\n",
    "                },\n",
    "                format='json'\n",
    "            )\n",
    "dataframeBaseEventos.count()"
   ]
  },
  {
   "cell_type": "code",
   "execution_count": 3,
   "metadata": {},
   "outputs": [
    {
     "name": "stdout",
     "output_type": "stream",
     "text": [
      "root\n",
      "|-- id: string\n",
      "|-- createdTime: string\n",
      "|-- fields: struct\n",
      "|    |-- Título do evento: string\n",
      "|    |-- Categoria de evento: string\n",
      "|    |-- Data e Horário: string\n",
      "|    |-- Tipo do evento: string\n",
      "|    |-- Link de inscrição: string\n",
      "|    |-- Formato: string\n",
      "|    |-- Trimestre: string\n",
      "|    |-- Semestre: string\n",
      "|    |-- Publico: array\n",
      "|    |    |-- element: string\n",
      "|    |-- Hub: array\n",
      "|    |    |-- element: string\n",
      "|    |-- Imagem: array\n",
      "|    |    |-- element: struct\n",
      "|    |    |    |-- id: string\n",
      "|    |    |    |-- width: int\n",
      "|    |    |    |-- height: int\n",
      "|    |    |    |-- url: string\n",
      "|    |    |    |-- filename: string\n",
      "|    |    |    |-- size: int\n",
      "|    |    |    |-- type: string\n",
      "|    |    |    |-- thumbnails: struct\n",
      "|    |    |    |    |-- small: struct\n",
      "|    |    |    |    |    |-- url: string\n",
      "|    |    |    |    |    |-- width: int\n",
      "|    |    |    |    |    |-- height: int\n",
      "|    |    |    |    |-- large: struct\n",
      "|    |    |    |    |    |-- url: string\n",
      "|    |    |    |    |    |-- width: int\n",
      "|    |    |    |    |    |-- height: int\n",
      "|    |    |    |    |-- full: struct\n",
      "|    |    |    |    |    |-- url: string\n",
      "|    |    |    |    |    |-- width: int\n",
      "|    |    |    |    |    |-- height: int\n",
      "|    |-- Descrição: string\n",
      "|    |-- Status do evento: string\n",
      "|    |-- Nome do criador do evento: string\n",
      "|    |-- Ativo: boolean\n",
      "|    |-- Listar em Eventos Recomendados na Plataforma?: boolean\n",
      "|    |-- Evento Privado?: string\n",
      "|    |-- Publicado?: boolean\n",
      "|    |-- Label: string\n",
      "|    |-- Data e Horário de Término: string\n",
      "|    |-- Local do Evento: string\n",
      "|    |-- Created By: struct\n",
      "|    |    |-- id: string\n",
      "|    |    |-- email: string\n",
      "|    |    |-- name: string\n",
      "|    |-- Created: string\n",
      "|    |-- Evento Destaque(site): boolean\n",
      "|    |-- Tipo de Ingresso(site): string\n",
      "|    |-- Local(Sala/Andar)(site): string\n",
      "|    |-- Tema(site): string\n",
      "|    |-- Resumo do tema(site): string\n",
      "|    |-- Programação(site): string\n",
      "|    |-- Palestrantes(site): string\n",
      "\n"
     ]
    }
   ],
   "source": [
    "dataframeBaseEventos.printSchema()"
   ]
  },
  {
   "cell_type": "code",
   "execution_count": 4,
   "metadata": {},
   "outputs": [],
   "source": [
    "mapping = []\n",
    "for item in dataframeBaseEventos.unnest().toDF().dtypes:\n",
    "    if item[0].split('.')[0] == \"fields\":\n",
    "        if len(item[0].split(\".\")) == 2:\n",
    "            mapping.append((item[0], item[0].split('.')[1]))\n",
    "    else:\n",
    "        mapping.append((item[0], item[0].split('.')[0]))  "
   ]
  },
  {
   "cell_type": "code",
   "execution_count": 5,
   "metadata": {},
   "outputs": [],
   "source": [
    "#Função para extrair a URL da imagem, lidando corretamente com Row objects\n",
    "def extract_imagem_url(imagem):\n",
    "    if isinstance(imagem, list) and len(imagem) > 0:\n",
    "        first_image = imagem[0]  # Pegamos o primeiro elemento da lista\n",
    "\n",
    "        #Verifica se o elemento é um dicionário ou um Row object\n",
    "        if isinstance(first_image, dict):\n",
    "            return first_image.get(\"url\", None)\n",
    "        elif hasattr(first_image, \"asDict\"):  # Caso seja um Row object\n",
    "            return first_image.asDict().get(\"url\", None)\n",
    "\n",
    "    return None  # Retorna None se não houver imagem\n",
    "\n",
    "#Criar a UDF para uso no DataFrame\n",
    "extract_imagem_url_udf = udf(extract_imagem_url, StringType())\n",
    "\n",
    "#Converter DynamicFrame para DataFrame do Spark\n",
    "newDf = dataframeBaseEventos.toDF()\n",
    "\n",
    "#Atualizar a coluna \"fields\" para incluir \"ImagemURL\"\n",
    "newDf = newDf.withColumn(\n",
    "    \"fields\",\n",
    "    struct(\n",
    "        col(\"fields.*\"),  # 🔥 Mantém todas as colunas já existentes em \"fields\"\n",
    "        extract_imagem_url_udf(col(\"fields.Imagem\")).alias(\"ImagemURL\")  # 🔥 Adiciona ImagemURL corretamente\n",
    "    )\n",
    ")\n",
    "\n",
    "#Converter DataFrame do Spark de volta para DynamicFrame no Glue\n",
    "newDf = DynamicFrame.fromDF(newDf, context, \"newDf\")"
   ]
  },
  {
   "cell_type": "code",
   "execution_count": null,
   "metadata": {},
   "outputs": [],
   "source": [
    "#Verificar schema atualizado\n",
    "newDf.printSchema()"
   ]
  },
  {
   "cell_type": "code",
   "execution_count": 6,
   "metadata": {},
   "outputs": [],
   "source": [
    "#Aplicar apply_mapping() e resolver tipos\n",
    "newDf = newDf.apply_mapping(mapping + [\n",
    "    (\"fields.ImagemURL\", \"string\", \"ImagemURL\", \"string\")  #Adicionando ImagemURL ao mapeamento\n",
    "]) \\\n",
    "    .resolveChoice([\n",
    "        (\"Evento Privado?\", \"cast:boolean\"),\n",
    "        (\"ImagemURL\", \"cast:string\")  #Garantindo que ImagemURL seja reconhecido\n",
    "    ]) \\\n",
    "    .drop_fields([\n",
    "        \"id\", \"Tipo do evento\", \"createdTime\", \"Hub\", \"Publico\", \"Trimestre\", \"Semestre\",\n",
    "        \"Categoria de evento\", \"Status do evento\", \"Created By\", \n",
    "        \"Nome do criador do evento\", \"Created\",\n",
    "        \"Imagem\"  #Removendo o campo original \"Imagem\"\n",
    "    ])\n"
   ]
  },
  {
   "cell_type": "code",
   "execution_count": null,
   "metadata": {},
   "outputs": [],
   "source": [
    "#Verificar schema atualizado\n",
    "newDf.printSchema()"
   ]
  },
  {
   "cell_type": "code",
   "execution_count": null,
   "metadata": {},
   "outputs": [],
   "source": [
    "# #Converter DynamicFrame de volta para DataFrame do Spark\n",
    "# newDf_final = newDf.toDF().toDF(\n",
    "#     \"Título do evento\", \"Data e Horário\", \"Link de inscrição\", \"Formato\", \n",
    "#     \"Descrição\", \"Ativo\", \"Listar em Eventos Recomendados na Plataforma?\", \n",
    "#     \"Evento Privado?\", \"Publicado?\", \"Label\", \"Data e Horário de Término\", \n",
    "#     \"Local do Evento\", \"Evento Destaque(site)\", \"Tipo de Ingresso(site)\", \n",
    "#     \"Local(Sala/Andar)(site)\", \"Tema(site)\", \"Resumo do tema(site)\", \n",
    "#     \"Programação(site)\", \"Palestrantes(site)\", \"ImagemURL\"\n",
    "# )"
   ]
  },
  {
   "cell_type": "code",
   "execution_count": 7,
   "metadata": {},
   "outputs": [],
   "source": [
    "#Converter DynamicFrame de volta para DataFrame do Spark\n",
    "newDf_final = newDf.toDF()"
   ]
  },
  {
   "cell_type": "code",
   "execution_count": null,
   "metadata": {},
   "outputs": [],
   "source": [
    "#Exibir o schema para confirmar que ImagemURL está presente\n",
    "newDf_final.printSchema()"
   ]
  },
  {
   "cell_type": "code",
   "execution_count": 8,
   "metadata": {},
   "outputs": [
    {
     "name": "stdout",
     "output_type": "stream",
     "text": [
      "+--------------------------------------------------------------------------------------------------------------------------------------------------------------------------------------------------------------------------------------------------------------------------------------------------------------------------------------------------------------------------+\n",
      "|ImagemURL                                                                                                                                                                                                                                                                                                                                                                 |\n",
      "+--------------------------------------------------------------------------------------------------------------------------------------------------------------------------------------------------------------------------------------------------------------------------------------------------------------------------------------------------------------------------+\n",
      "|https://v5.airtableusercontent.com/v3/u/39/39/1742248800000/YD9B7WigytyW6kffpn0ciw/UzEIUH9qAVlXhkR2jYlmVd8B41IjYWOHp7a9MkTK0Hzh2lwRoUo-YXf664MX_T720hvD0M5X0b1CsELqO-QxsOnR05a1Qqcs0ynHB-QLtNZj-pKZDueBmMdBBOccDWbwvB_tdzTe0qi-CSkpC8zir7K-tst3Rp1aMzK6gXH1eEI5q-dyT-DHvRiYFoI99X0yEFFkCcMEpjs4iUio0yBfYZKSWzT_yfwSumO2hxMpPnQ/Hncmoup2o25NBcTsak1xP6hnDoCI25-dEqcyVnUEuNc|\n",
      "|https://v5.airtableusercontent.com/v3/u/39/39/1742248800000/3_jXrgmHmY1rx-R6aCrNXw/WvUG2dhH4lOLIWaOxoeD07-hFtaRluer4MnIulyjGJii2X7QLdQ4Bxex3wYtcjUCUsM6JnfiVg07PHgbWdjkl4hPl5aPVt6R4Ll6aVnrpT1vnExRdtVeucfKqBMqc61TDJZyQqK-GVz_zpFhRHsRC4QGkwN95bSipGu3qp4jjrY/HCJbGPC9fdgFCaSyPWexskigk8NJFjfhI8ceQ7UKMt0                                                                |\n",
      "|https://v5.airtableusercontent.com/v3/u/39/39/1742248800000/bSwD74FpJaQ-1bdUFeBlSg/xaVyScAnJelBcsPfZNRFXYjrq7rrAkXwSp6bbiEIuHzXdMo5tk0HLo-EZ3tYOEq_F_UBcw7urNpOmnsctdw8cKMrnGbQvv9Vck34y6vwHg1luOjKv_4kEEdARNh2zPiCx4AyJBcxWJaT8swqamHKsHfT_yJO9XBiFZ7AFl6DI4U/YHXQVNXENOFlKju8UBNWpGzonQ2FZ9C2c7RySJaFY_g                                                                |\n",
      "|https://v5.airtableusercontent.com/v3/u/39/39/1742248800000/eUKvWt2UhBP_VmEyes1clg/VdrN5eYBmW87Qd9z35z2aX9LwtsPipK6DhAsMdhEmpotr5fR7aZ-TwgL-wTgLG7CiTP8eVAevHe5R6d12hRGeJURzZg4-h5DQURUJ3OoL_r_gl2ihm3TLaoX4OLNBYKRykjfpnSluET0zPuwnj6KG1wLWe_fCY0SuaWVBTCcTlU6jHP6hWcY4vsyZaNk5KaD/vxqKjQVuDeHAgf7RomyLi1Qro6raY003vQg4fvU-qcI                                           |\n",
      "|https://v5.airtableusercontent.com/v3/u/39/39/1742248800000/bWY6RTaM5FwKhPuuCw9loQ/QglC0zkRH8VZWDACTAoWgFR5wk4vrGlrvivDfuzl37Te9HzH6nZof_irN8VU_caBZIMwFb0HOiJQmHGLiyIkEX6-Tuqu11VlXhA6vfuK0RDXzKCJzCVj_amQOWNEkNpzS2iz6Ny-5XKkcfUEfDoB2z3KX_Eoubo9sAJdsWbecsRr8KNy4vulwL2DrBwKNzYX/w6hCy74d7FhcyM2WcTvnNp4IzjPBGvCjpxHFOquc5TQ                                           |\n",
      "|https://v5.airtableusercontent.com/v3/u/39/39/1742248800000/Jv_eb6D5D9MQqoYicfHhkQ/gupXD1uzJZeZxo_1JKo01XRNB495xzibMRdsB4FS9KWF4hTSp-nSLQ0neZ_DtneQug3-eqM9hIqxIQq3Kz7Kzf-GOE5nTotKjC_mgWTKDe0x-zMkH6aDhTy8gFWSnIwrLp1P3La8r7zeYFBr62JBwA1HJWpoypQPBV97DHLUntECl-3cHbGgbxmABzwrl0wf/tprDpwHM0Z7t1ueSJYWFdKfvc5xVnoAGxbCXBv8jqZg                                           |\n",
      "+--------------------------------------------------------------------------------------------------------------------------------------------------------------------------------------------------------------------------------------------------------------------------------------------------------------------------------------------------------------------------+\n",
      "\n"
     ]
    }
   ],
   "source": [
    "newDf_final.select(\"ImagemURL\").show(10, truncate=False)"
   ]
  },
  {
   "cell_type": "code",
   "execution_count": null,
   "metadata": {},
   "outputs": [],
   "source": [
    "newDf_final.show(5)"
   ]
  },
  {
   "cell_type": "code",
   "execution_count": 9,
   "metadata": {},
   "outputs": [
    {
     "name": "stdout",
     "output_type": "stream",
     "text": [
      "Conexão bem-sucedida!\n"
     ]
    }
   ],
   "source": [
    "try:\n",
    "    connection = psycopg2.connect(\n",
    "        host=\"db-dev-poc-rds.c3dnragwy3og.us-east-1.rds.amazonaws.com\",\n",
    "        port=\"5432\",\n",
    "        database=\"db_dev_poc_rds\",\n",
    "        user=\"postgres\",\n",
    "        password=\"P06n9VDnXZ5CLlg9UNrgd6h53\"\n",
    "    )\n",
    "    print(\"Conexão bem-sucedida!\")\n",
    "    connection.close()\n",
    "except Exception as e:\n",
    "    print(f\"Erro ao conectar ao banco: {e}\")"
   ]
  },
  {
   "cell_type": "code",
   "execution_count": 10,
   "metadata": {},
   "outputs": [],
   "source": [
    "jdbc_url = \"jdbc:postgresql://db-dev-poc-rds.c3dnragwy3og.us-east-1.rds.amazonaws.com:5432/db_dev_poc_rds\"\n",
    "jdbc_properties = {\n",
    "    \"user\": \"postgres\",\n",
    "    \"password\": \"P06n9VDnXZ5CLlg9UNrgd6h53\",\n",
    "    \"driver\": \"org.postgresql.Driver\",\n",
    "    \"stringtype\": \"unspecified\"\n",
    "}"
   ]
  },
  {
   "cell_type": "code",
   "execution_count": 11,
   "metadata": {},
   "outputs": [],
   "source": [
    "from pyspark.sql.functions import col, to_timestamp\n",
    "\n",
    "newDf_final = newDf_final.select(\n",
    "    col(\"Título do evento\").alias(\"name\"),\n",
    "    to_timestamp(col(\"Data e Horário\")).alias(\"start_date\"),  # Conversão correta de data\n",
    "    col(\"Link de inscrição\").alias(\"url\"),\n",
    "    col(\"Formato\").alias(\"modality\"),\n",
    "    col(\"Descrição\").alias(\"detail\"),\n",
    "    col(\"Ativo\").cast(\"boolean\").alias(\"active\"),\n",
    "    col(\"Listar em Eventos Recomendados na Plataforma?\").cast(\"boolean\").alias(\"is_main_event\"),\n",
    "    col(\"Evento Privado?\").cast(\"boolean\").alias(\"private_event\"), \n",
    "    col(\"Publicado?\").cast(\"boolean\").alias(\"published\"), \n",
    "    col(\"Label\").alias(\"id\"),\n",
    "    to_timestamp(col(\"Data e Horário de Término\")).alias(\"end_date\"),  # Conversão correta de data\n",
    "    col(\"Local do Evento\").alias(\"address\"), \n",
    "    col(\"Evento Destaque(site)\").cast(\"boolean\").alias(\"featured_events\"), \n",
    "    col(\"Tipo de Ingresso(site)\").alias(\"ticket_type\"),\n",
    "    col(\"Local(Sala/Andar)(site)\").alias(\"room_and_floor\"),\n",
    "    col(\"Tema(site)\").alias(\"theme\"),\n",
    "    col(\"Resumo do tema(site)\").alias(\"theme_summary\"), \n",
    "    col(\"Programação(site)\").alias(\"schedule\"),\n",
    "    col(\"Palestrantes(site)\").alias(\"speakers\"),\n",
    "    col(\"ImagemURL\").alias(\"image\")\n",
    ")\n"
   ]
  },
  {
   "cell_type": "code",
   "execution_count": 12,
   "metadata": {},
   "outputs": [
    {
     "name": "stdout",
     "output_type": "stream",
     "text": [
      "+--------------------------------------------------------------------------------------------------------------------------------------------------------------------------------------------------------------------------------------------------------------------------------------------------------------------------------------------------------------------------+\n",
      "|image                                                                                                                                                                                                                                                                                                                                                                     |\n",
      "+--------------------------------------------------------------------------------------------------------------------------------------------------------------------------------------------------------------------------------------------------------------------------------------------------------------------------------------------------------------------------+\n",
      "|https://v5.airtableusercontent.com/v3/u/39/39/1742248800000/YD9B7WigytyW6kffpn0ciw/UzEIUH9qAVlXhkR2jYlmVd8B41IjYWOHp7a9MkTK0Hzh2lwRoUo-YXf664MX_T720hvD0M5X0b1CsELqO-QxsOnR05a1Qqcs0ynHB-QLtNZj-pKZDueBmMdBBOccDWbwvB_tdzTe0qi-CSkpC8zir7K-tst3Rp1aMzK6gXH1eEI5q-dyT-DHvRiYFoI99X0yEFFkCcMEpjs4iUio0yBfYZKSWzT_yfwSumO2hxMpPnQ/Hncmoup2o25NBcTsak1xP6hnDoCI25-dEqcyVnUEuNc|\n",
      "|https://v5.airtableusercontent.com/v3/u/39/39/1742248800000/3_jXrgmHmY1rx-R6aCrNXw/WvUG2dhH4lOLIWaOxoeD07-hFtaRluer4MnIulyjGJii2X7QLdQ4Bxex3wYtcjUCUsM6JnfiVg07PHgbWdjkl4hPl5aPVt6R4Ll6aVnrpT1vnExRdtVeucfKqBMqc61TDJZyQqK-GVz_zpFhRHsRC4QGkwN95bSipGu3qp4jjrY/HCJbGPC9fdgFCaSyPWexskigk8NJFjfhI8ceQ7UKMt0                                                                |\n",
      "|https://v5.airtableusercontent.com/v3/u/39/39/1742248800000/bSwD74FpJaQ-1bdUFeBlSg/xaVyScAnJelBcsPfZNRFXYjrq7rrAkXwSp6bbiEIuHzXdMo5tk0HLo-EZ3tYOEq_F_UBcw7urNpOmnsctdw8cKMrnGbQvv9Vck34y6vwHg1luOjKv_4kEEdARNh2zPiCx4AyJBcxWJaT8swqamHKsHfT_yJO9XBiFZ7AFl6DI4U/YHXQVNXENOFlKju8UBNWpGzonQ2FZ9C2c7RySJaFY_g                                                                |\n",
      "|https://v5.airtableusercontent.com/v3/u/39/39/1742248800000/eUKvWt2UhBP_VmEyes1clg/VdrN5eYBmW87Qd9z35z2aX9LwtsPipK6DhAsMdhEmpotr5fR7aZ-TwgL-wTgLG7CiTP8eVAevHe5R6d12hRGeJURzZg4-h5DQURUJ3OoL_r_gl2ihm3TLaoX4OLNBYKRykjfpnSluET0zPuwnj6KG1wLWe_fCY0SuaWVBTCcTlU6jHP6hWcY4vsyZaNk5KaD/vxqKjQVuDeHAgf7RomyLi1Qro6raY003vQg4fvU-qcI                                           |\n",
      "|https://v5.airtableusercontent.com/v3/u/39/39/1742248800000/bWY6RTaM5FwKhPuuCw9loQ/QglC0zkRH8VZWDACTAoWgFR5wk4vrGlrvivDfuzl37Te9HzH6nZof_irN8VU_caBZIMwFb0HOiJQmHGLiyIkEX6-Tuqu11VlXhA6vfuK0RDXzKCJzCVj_amQOWNEkNpzS2iz6Ny-5XKkcfUEfDoB2z3KX_Eoubo9sAJdsWbecsRr8KNy4vulwL2DrBwKNzYX/w6hCy74d7FhcyM2WcTvnNp4IzjPBGvCjpxHFOquc5TQ                                           |\n",
      "|https://v5.airtableusercontent.com/v3/u/39/39/1742248800000/Jv_eb6D5D9MQqoYicfHhkQ/gupXD1uzJZeZxo_1JKo01XRNB495xzibMRdsB4FS9KWF4hTSp-nSLQ0neZ_DtneQug3-eqM9hIqxIQq3Kz7Kzf-GOE5nTotKjC_mgWTKDe0x-zMkH6aDhTy8gFWSnIwrLp1P3La8r7zeYFBr62JBwA1HJWpoypQPBV97DHLUntECl-3cHbGgbxmABzwrl0wf/tprDpwHM0Z7t1ueSJYWFdKfvc5xVnoAGxbCXBv8jqZg                                           |\n",
      "+--------------------------------------------------------------------------------------------------------------------------------------------------------------------------------------------------------------------------------------------------------------------------------------------------------------------------------------------------------------------------+\n",
      "\n"
     ]
    }
   ],
   "source": [
    "newDf_final.select(\"image\").show(10, truncate=False)"
   ]
  },
  {
   "cell_type": "code",
   "execution_count": null,
   "metadata": {},
   "outputs": [],
   "source": [
    "newDf_final.select(\"theme_summary\").show(10, truncate=False)"
   ]
  },
  {
   "cell_type": "code",
   "execution_count": null,
   "metadata": {},
   "outputs": [],
   "source": [
    "newDf_final.select(\"id\").show(10, truncate=False)"
   ]
  },
  {
   "cell_type": "code",
   "execution_count": null,
   "metadata": {},
   "outputs": [],
   "source": [
    "newDf_final.show(truncate=False)"
   ]
  },
  {
   "cell_type": "code",
   "execution_count": null,
   "metadata": {},
   "outputs": [],
   "source": [
    "newDf_final.printSchema()"
   ]
  },
  {
   "cell_type": "code",
   "execution_count": null,
   "metadata": {},
   "outputs": [],
   "source": [
    "# newDf_final.select(\"start_date\", \"end_date\").show(truncate=False)"
   ]
  },
  {
   "cell_type": "code",
   "execution_count": null,
   "metadata": {},
   "outputs": [],
   "source": [
    "# newDf.limit(1).write.jdbc(\n",
    "#     url=jdbc_url,\n",
    "#     table=\"events_glue\",\n",
    "#     mode=\"append\",\n",
    "#     properties=jdbc_properties\n",
    "# )"
   ]
  },
  {
   "cell_type": "code",
   "execution_count": 13,
   "metadata": {},
   "outputs": [],
   "source": [
    "newDf_final.write.jdbc(\n",
    "        url=jdbc_url,\n",
    "        table=\"events\",\n",
    "        mode=\"append\",  # Adiciona os registros sem sobrescrever\n",
    "        properties=jdbc_properties\n",
    ")"
   ]
  }
 ],
 "metadata": {
  "kernelspec": {
   "display_name": "Python 3",
   "language": "python",
   "name": "python3"
  },
  "language_info": {
   "codemirror_mode": {
    "name": "ipython",
    "version": 3
   },
   "file_extension": ".py",
   "mimetype": "text/x-python",
   "name": "python",
   "nbconvert_exporter": "python",
   "pygments_lexer": "ipython3",
   "version": "3.7.16"
  },
  "orig_nbformat": 4
 },
 "nbformat": 4,
 "nbformat_minor": 2
}
