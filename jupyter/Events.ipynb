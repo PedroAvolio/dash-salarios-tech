{
 "cells": [
  {
   "cell_type": "code",
   "execution_count": 1,
   "metadata": {},
   "outputs": [],
   "source": [
    "from pyspark.context import SparkContext\n",
    "from awsglue.context import GlueContext\n",
    "from awsglue.job import Job\n",
    "from awsglue.utils import getResolvedOptions\n",
    "from awsglue.transforms import Map, DropFields, ApplyMapping\n",
    "import psycopg2\n",
    "\n",
    "sc = SparkContext()\n",
    "context = GlueContext(sc)"
   ]
  },
  {
   "cell_type": "code",
   "execution_count": 2,
   "metadata": {},
   "outputs": [
    {
     "name": "stdout",
     "output_type": "stream",
     "text": [
      "s3://network.cubo.datalake/airtable/raw/prod/2025-03-14-21-54-14/data/Calendário de Eventos Cubo/Events/Plataforma Cubo Network/\n"
     ]
    },
    {
     "data": {
      "text/plain": [
       "5"
      ]
     },
     "execution_count": 2,
     "metadata": {},
     "output_type": "execute_result"
    }
   ],
   "source": [
    "path = \"s3://network.cubo.datalake/airtable/raw/prod/\"\n",
    "path = path + \"2025-03-14-21-54-14/data/\"\n",
    "path = path + \"Calendário de Eventos Cubo/Events/Plataforma Cubo Network/\"\n",
    "print(path)\n",
    "dataframeBaseEventos = context.create_dynamic_frame.from_options(\n",
    "                connection_type='s3',\n",
    "                connection_options={\n",
    "                    'paths': [path],\n",
    "                    'recurse': True\n",
    "                },\n",
    "                format='json'\n",
    "            )\n",
    "dataframeBaseEventos.count()"
   ]
  },
  {
   "cell_type": "code",
   "execution_count": 3,
   "metadata": {},
   "outputs": [
    {
     "name": "stdout",
     "output_type": "stream",
     "text": [
      "root\n",
      "|-- id: string\n",
      "|-- createdTime: string\n",
      "|-- fields: struct\n",
      "|    |-- Título do evento: string\n",
      "|    |-- Categoria de evento: string\n",
      "|    |-- Data e Horário: string\n",
      "|    |-- Tipo do evento: string\n",
      "|    |-- Link de inscrição: string\n",
      "|    |-- Formato: string\n",
      "|    |-- Trimestre: string\n",
      "|    |-- Semestre: string\n",
      "|    |-- Publico: array\n",
      "|    |    |-- element: string\n",
      "|    |-- Hub: array\n",
      "|    |    |-- element: string\n",
      "|    |-- Imagem: array\n",
      "|    |    |-- element: struct\n",
      "|    |    |    |-- id: string\n",
      "|    |    |    |-- width: int\n",
      "|    |    |    |-- height: int\n",
      "|    |    |    |-- url: string\n",
      "|    |    |    |-- filename: string\n",
      "|    |    |    |-- size: int\n",
      "|    |    |    |-- type: string\n",
      "|    |    |    |-- thumbnails: struct\n",
      "|    |    |    |    |-- small: struct\n",
      "|    |    |    |    |    |-- url: string\n",
      "|    |    |    |    |    |-- width: int\n",
      "|    |    |    |    |    |-- height: int\n",
      "|    |    |    |    |-- large: struct\n",
      "|    |    |    |    |    |-- url: string\n",
      "|    |    |    |    |    |-- width: int\n",
      "|    |    |    |    |    |-- height: int\n",
      "|    |    |    |    |-- full: struct\n",
      "|    |    |    |    |    |-- url: string\n",
      "|    |    |    |    |    |-- width: int\n",
      "|    |    |    |    |    |-- height: int\n",
      "|    |-- Descrição: string\n",
      "|    |-- Status do evento: string\n",
      "|    |-- Nome do criador do evento: string\n",
      "|    |-- Ativo: boolean\n",
      "|    |-- Listar em Eventos Recomendados na Plataforma?: boolean\n",
      "|    |-- Evento Privado?: string\n",
      "|    |-- Publicado?: boolean\n",
      "|    |-- Label: string\n",
      "|    |-- Data e Horário de Término: string\n",
      "|    |-- Local do Evento: string\n",
      "|    |-- Created By: struct\n",
      "|    |    |-- id: string\n",
      "|    |    |-- email: string\n",
      "|    |    |-- name: string\n",
      "|    |-- Created: string\n",
      "|    |-- Evento Destaque(site): boolean\n",
      "|    |-- Tipo de Ingresso(site): string\n",
      "|    |-- Tema(site): string\n",
      "|    |-- Resumo do tema(site): string\n",
      "|    |-- Programação(site): string\n",
      "|    |-- Local(Sala/Andar)(site): string\n",
      "|    |-- Palestrantes(site): string\n",
      "\n"
     ]
    }
   ],
   "source": [
    "dataframeBaseEventos.printSchema()"
   ]
  },
  {
   "cell_type": "code",
   "execution_count": 4,
   "metadata": {},
   "outputs": [],
   "source": [
    "mapping = []\n",
    "for item in dataframeBaseEventos.unnest().toDF().dtypes:\n",
    "    if item[0].split('.')[0] == \"fields\":\n",
    "        if len(item[0].split(\".\")) == 2:\n",
    "            mapping.append((item[0], item[0].split('.')[1]))\n",
    "    else:\n",
    "        mapping.append((item[0], item[0].split('.')[0]))  "
   ]
  },
  {
   "cell_type": "markdown",
   "metadata": {},
   "source": [
    "Aqui abaixo inicia os testes"
   ]
  },
  {
   "cell_type": "code",
   "execution_count": null,
   "metadata": {},
   "outputs": [],
   "source": [
    "def recInsights(item):\n",
    "    try:\n",
    "        # Verifica se \"fields\" existe no item\n",
    "        if \"fields\" in item:\n",
    "            # Verifica se \"Imagem\" está presente e contém pelo menos um item no array\n",
    "            if \"Imagem\" in item[\"fields\"] and isinstance(item[\"fields\"][\"Imagem\"], list) and len(item[\"fields\"][\"Imagem\"]) > 0:\n",
    "                # Extrai o primeiro URL do array de imagens\n",
    "                item[\"ImagemURL\"] = item[\"fields\"][\"Imagem\"][0].get(\"url\", None)\n",
    "\n",
    "        return item\n",
    "    except Exception as e:\n",
    "        print(f\"Erro ao processar item: {e}\")\n",
    "        return item"
   ]
  },
  {
   "cell_type": "code",
   "execution_count": null,
   "metadata": {},
   "outputs": [],
   "source": [
    "newDf = dataframeBaseEventos.map(f=recInsights)"
   ]
  },
  {
   "cell_type": "code",
   "execution_count": null,
   "metadata": {},
   "outputs": [],
   "source": [
    "print(newDf.count())  # Verifica se o número de registros não mudou\n",
    "\n",
    "# Exibir alguns registros transformados\n",
    "newDf.toDF().select(\"ImagemURL\").show(10, truncate=False)"
   ]
  },
  {
   "cell_type": "markdown",
   "metadata": {},
   "source": [
    "Esses 3 blocos abaixo são para tirar a url de dentro de Imagens"
   ]
  },
  {
   "cell_type": "code",
   "execution_count": 5,
   "metadata": {},
   "outputs": [
    {
     "name": "stdout",
     "output_type": "stream",
     "text": [
      "root\n",
      " |-- id: string (nullable = true)\n",
      " |-- createdTime: string (nullable = true)\n",
      " |-- fields: struct (nullable = true)\n",
      " |    |-- Título do evento: string (nullable = true)\n",
      " |    |-- Categoria de evento: string (nullable = true)\n",
      " |    |-- Data e Horário: string (nullable = true)\n",
      " |    |-- Tipo do evento: string (nullable = true)\n",
      " |    |-- Link de inscrição: string (nullable = true)\n",
      " |    |-- Formato: string (nullable = true)\n",
      " |    |-- Trimestre: string (nullable = true)\n",
      " |    |-- Semestre: string (nullable = true)\n",
      " |    |-- Publico: array (nullable = true)\n",
      " |    |    |-- element: string (containsNull = true)\n",
      " |    |-- Hub: array (nullable = true)\n",
      " |    |    |-- element: string (containsNull = true)\n",
      " |    |-- Imagem: array (nullable = true)\n",
      " |    |    |-- element: struct (containsNull = true)\n",
      " |    |    |    |-- id: string (nullable = true)\n",
      " |    |    |    |-- width: integer (nullable = true)\n",
      " |    |    |    |-- height: integer (nullable = true)\n",
      " |    |    |    |-- url: string (nullable = true)\n",
      " |    |    |    |-- filename: string (nullable = true)\n",
      " |    |    |    |-- size: integer (nullable = true)\n",
      " |    |    |    |-- type: string (nullable = true)\n",
      " |    |    |    |-- thumbnails: struct (nullable = true)\n",
      " |    |    |    |    |-- small: struct (nullable = true)\n",
      " |    |    |    |    |    |-- url: string (nullable = true)\n",
      " |    |    |    |    |    |-- width: integer (nullable = true)\n",
      " |    |    |    |    |    |-- height: integer (nullable = true)\n",
      " |    |    |    |    |-- large: struct (nullable = true)\n",
      " |    |    |    |    |    |-- url: string (nullable = true)\n",
      " |    |    |    |    |    |-- width: integer (nullable = true)\n",
      " |    |    |    |    |    |-- height: integer (nullable = true)\n",
      " |    |    |    |    |-- full: struct (nullable = true)\n",
      " |    |    |    |    |    |-- url: string (nullable = true)\n",
      " |    |    |    |    |    |-- width: integer (nullable = true)\n",
      " |    |    |    |    |    |-- height: integer (nullable = true)\n",
      " |    |-- Descrição: string (nullable = true)\n",
      " |    |-- Status do evento: string (nullable = true)\n",
      " |    |-- Nome do criador do evento: string (nullable = true)\n",
      " |    |-- Ativo: boolean (nullable = true)\n",
      " |    |-- Listar em Eventos Recomendados na Plataforma?: boolean (nullable = true)\n",
      " |    |-- Evento Privado?: string (nullable = true)\n",
      " |    |-- Publicado?: boolean (nullable = true)\n",
      " |    |-- Label: string (nullable = true)\n",
      " |    |-- Data e Horário de Término: string (nullable = true)\n",
      " |    |-- Local do Evento: string (nullable = true)\n",
      " |    |-- Created By: struct (nullable = true)\n",
      " |    |    |-- id: string (nullable = true)\n",
      " |    |    |-- email: string (nullable = true)\n",
      " |    |    |-- name: string (nullable = true)\n",
      " |    |-- Created: string (nullable = true)\n",
      " |    |-- Evento Destaque(site): boolean (nullable = true)\n",
      " |    |-- Tipo de Ingresso(site): string (nullable = true)\n",
      " |    |-- Tema(site): string (nullable = true)\n",
      " |    |-- Resumo do tema(site): string (nullable = true)\n",
      " |    |-- Programação(site): string (nullable = true)\n",
      " |    |-- Local(Sala/Andar)(site): string (nullable = true)\n",
      " |    |-- Palestrantes(site): string (nullable = true)\n",
      "\n"
     ]
    }
   ],
   "source": [
    "newDf = dataframeBaseEventos.toDF()  # Converter DynamicFrame para DataFrame\n",
    "\n",
    "# Exibir o schema real da estrutura de dados\n",
    "newDf.printSchema()"
   ]
  },
  {
   "cell_type": "code",
   "execution_count": 6,
   "metadata": {},
   "outputs": [
    {
     "name": "stdout",
     "output_type": "stream",
     "text": [
      "+------------------------------------------------------------------------------------------------------------------------------------------------------------------------------------------------------------------------------------------------------------------------------------------------------------------------------------------------------------------------------------------------------------------------------------------------------------------------------------------------------------------------------------------------------------------------------------------------------------------------------------------------------------------------------------------------------------------------------------------------------------------------------------------------------------------------------------------------------------------------------------------------------------------------------------------------------------------------------------------------------------------------------------------------------------------------------------------------------------------------------------------------------------------------------------------------------------------------------------------------------------------------------------------------------------------------------------------------------------------------------------------------------+\n",
      "|Imagem                                                                                                                                                                                                                                                                                                                                                                                                                                                                                                                                                                                                                                                                                                                                                                                                                                                                                                                                                                                                                                                                                                                                                                                                                                                                                                                                                                                                |\n",
      "+------------------------------------------------------------------------------------------------------------------------------------------------------------------------------------------------------------------------------------------------------------------------------------------------------------------------------------------------------------------------------------------------------------------------------------------------------------------------------------------------------------------------------------------------------------------------------------------------------------------------------------------------------------------------------------------------------------------------------------------------------------------------------------------------------------------------------------------------------------------------------------------------------------------------------------------------------------------------------------------------------------------------------------------------------------------------------------------------------------------------------------------------------------------------------------------------------------------------------------------------------------------------------------------------------------------------------------------------------------------------------------------------------+\n",
      "|[{attMZbfPPyG6LoEQk, 800, 400, https://v5.airtableusercontent.com/v3/u/39/39/1741996800000/99Ul5jzBGAAU46ncJ7xgQw/vrmL1nRAEALUNJjQrIK3L_8NXQl8MHda-OEItFl_mfQf2qXydaX2QXeU4Il-xY9tu-CfebUAZb4EOeDJEU0ezKq13sh6XfMQklxZXqGmHqvTkZrSFRpaqDPddczhAsIS5aew9y2rDG8df7hkqmlss5x9KN7LAfo_hw2RYq97mFuLKtaPFrbVA6Gr6KXUsN1uRUARCgYmwUkaRl8iwVJwJtcBhgc4yFY0VZNjgxCUFPc/A-64rGdcMuM2sCmz3nIIcCma8g9UZgBBJzefsXKIRE4, Cubo_Consumer_Summit_Marketplace_Ecommerce_Evnts_800x400.jpg, 269152, image/jpeg, {{https://v5.airtableusercontent.com/v3/u/39/39/1741996800000/RECDLbcb9HZpjKlK0XwiEg/0jQqz6bOIS0qLiyy47R9B1JL70foVg2_ZEUIk5eWnk1nVnL77Mcyx0qKggWRWOvd6J_RA8_iugGaUuTAhokO-Ay3-ngyavRQ7TinIEKyiwIVvKlrVyGwSBIj75Sd8pQyhA7EaTcuv5KaE3sp54epmA/CpJ2qtV-ksQ4DRk9P415VRVatMenmRcI3HVG_JMHjRQ, 72, 36}, {https://v5.airtableusercontent.com/v3/u/39/39/1741996800000/WXK7_5vTAfQ-OuiGZhIKIg/6GpGAu4VW3oO87VnUIpzPQG4K0oFP92CnhzHuCb62i9A5BXEo7SyLBogpQRumOMsqgoFTLTufx5_H33ht9TKAAZBi5C3xXblmFVOFJtvW7wGdFYTwbxENHGnarADmEPYgIdaoa6qQAuuqOpJ7DqQcQ/raG2jQt2LvIdAXAEvv0NxHp-X2XuSyKUHWlJY450H9w, 800, 400}, {https://v5.airtableusercontent.com/v3/u/39/39/1741996800000/94nAoegtdEZ65QLs46BiGA/a-UYi_30kf1Y1GXMgp84frVtLcN9okROg4IwmCbxvpzyomRW_E6nhWcDZztBxDvFvHtB5xRboTwPTfkQK310LeDhUQS1fqMK4DT3EwW1umTpeM6xRbK0kdP4Tw1CVDD7Nbt7DuLiCrx5fz2cM9unKA/h-DXgKB07FcPnsDJCqySLYvCirRAvad458gNKIyur1I, 800, 400}}}]|\n",
      "|[{attxApo0fTWRUCplh, 1400, 733, https://v5.airtableusercontent.com/v3/u/39/39/1741996800000/rdO1AscAdqDGSgHU_VwlEw/VlKwXJKenkwAi_RuUZmwfTk4efzyOD9zERhv_js7xJaoYb6Wwch10VdhSlNo9RyUOEv0XtmNTAlkiW_El0rue4QEE21m5WeVc_tCVvU0xPsFVVREEqHosl57aemd7CFYbko6qTp278iK53h8B2uguk5IK7IlZvR98BS7rJOqqa0/p9O1nSYxNK2mQBmr8E6FnYRQ6TyAcOuYM3NgSbmFxXQ, banner-Auren.png, 687568, image/png, {{https://v5.airtableusercontent.com/v3/u/39/39/1741996800000/9uRGchLdOXLtvy8OVXN2cw/4PjL61CwFGamVErRO0Ja6FaZpigDhmXHIpwhwYwV1Ax9NSg9Ku5QSm-I9RVPF3UA_soQeKRp5bj7tHRr_05fxfzMIRECp36SSrA_f1xPu8ZVKMVDzK3GYAQ9lOMN2Uy8AKEw9IhWv7Kq-mO6-hynVw/1aK-54pvGQwpiLb2FFzSZO6ke9bRNa3TJYwrT4l5XJQ, 69, 36}, {https://v5.airtableusercontent.com/v3/u/39/39/1741996800000/OJheaBsixzEUtsYYtTLefw/3I2vu9P5EQJWmxcsG_4lH1hQbtSSIdM7Hd2mPm_8P9eiZCqMVzplR6E0s43fbQw3K4LOvfThBqwEVjEGSSbkNUreTC14EX7qdBWZn7KLldG2IT7lrUZMizvnyrXg6Cd7_Ri--1vnbzkyxZRDUAzR7A/aC-X49Br7Jk188iOJJik0h9LON3q_rK9HuLKoNNWhaE, 978, 512}, {https://v5.airtableusercontent.com/v3/u/39/39/1741996800000/4FoqxJ3mu1nOOVkvIArfrA/rVGw-6xEpEQm83bB3q1qgGB3MH0iMLRX_tMP4z1VtE1IPpjhWaPKvhu6xBeEg74atpN7i0PJTlPYE_rwe4GmkFmTZ-KJlqOIQYgLOlLzZ6mnseNGVSunJjGgqa4n82zCzTf-g6mqGJ15H93GqQWzUw/H_jX1tBekALU0p9hORIxq06jY5FiGEY8guuQsczsk1w, 1400, 733}}}]                                                                                                           |\n",
      "|[{att57UVujf9Ieo3Aq, 1024, 470, https://v5.airtableusercontent.com/v3/u/39/39/1741996800000/H7Cl04NtH85p22TU2tDGag/s_zQGUkJvkVXgPE0CBujKhk6v2L-UaVCOAkQSYzH_NRZyc7TRH3c4w0vjhf6fUfoTUOcUPlXe5qqEwLbT5j-NtfeFchXKxy2Wo_EBWjwAcA03WjwEwKGDiSLfAbiFtmnSSji2kI9h9fBsXbL0ol1FyoVHF_kPgzzBVOBgTTvxxKwtzghtXbybinSyNOTuetv/BulbojsRNN8CAvVnh8WkYeMUT8l850esPor-taGkS_0, Jornada de Wellbeing_1024x470.png, 885857, image/png, {{https://v5.airtableusercontent.com/v3/u/39/39/1741996800000/H-7--rJPCnlO_9PDTn-6RA/m5BQxkVPF4rhm4HlCu8ny9GE26HCo3VX2loIyfn85VQq-143o53Jw7We23b7OvrFZGXNuX_CGcWX0apFp0XoCYXtTMm5syw4LU4_w8P-EtPwU1sRNMOePnSqQCmRWKKPBhHyy-ZYDbc2xZ9dLcNczQ/Eb9xyHc9HMlqQjUUkiZlfjFmH47Hq2dMswcxxQtMYxg, 78, 36}, {https://v5.airtableusercontent.com/v3/u/39/39/1741996800000/fpbWb7k-XydSniU_1hhUQA/YSgePPEGHaf0Cmotlq_ycbynPgZAG7MAXpJgY24DJUoVcJI4L8JHUi5EXY7k98HiV5APXZQiYHh8n8655E6v2VfF33H8MwzMe6mWJZYAEZkHCc5lj1u4rmjjT5MvJIpuo6sD-YZ0VtnnmV2vCbUGxQ/s7-4M9vkhLpjqSOuRHtXxvXkN0zKhHnme3XvqoGbSpI, 1024, 470}, {https://v5.airtableusercontent.com/v3/u/39/39/1741996800000/4mC1fEUtvjZdq_JPbBrIFg/GEQwldaZGdEU8RSQiVmSA4bQp3iDXKD309L1eRILCSIvrg9z6rUHobE3H87MD_SI0hMHDJgDAmOjVEytWcpdKoCrRDg0OLZpd0uwt9VRYm_RfRr4eUmER48_Zwt2X23hUGJBucTmYILfvtS7-DGJ8A/Eq0-eg74janRKlkd0xSgwSJNSulOlR2B5gQNGwpJDHo, 1024, 470}}}]                                                                    |\n",
      "|[{attm2dtHhnDhXTDqy, 1024, 470, https://v5.airtableusercontent.com/v3/u/39/39/1741996800000/F7QvbM1UpoMI14hFX7_S2A/Nl7i6JG7TL7TiINOhGLFinD2ICSonjhOnvjQnEsPJO14zCCrlJ0Knc-ICajim-7t05FjSmbs6YsPDbpml0tad-PzB7sRwiSK6hAc9Equf3voLuesOsDg7xvPuXRfXtcDR47IH_LJGYj0tDwFMNt_LaQkY0bRChbFJVHqTZgU8RW9ojxjFntpnczZmJnOQ_MQ/qTUmtcHTL-BpL9TafMif62NGMAdCNKVj7xxR6acu6gA, Mulheres ao Cubo Day_1024x470.png, 715591, image/png, {{https://v5.airtableusercontent.com/v3/u/39/39/1741996800000/-z3cveIpec2cwrjiJjmxJw/fKVm-TbAB3lqrZsQ15bCjqD2incehWrc05FWpFHFOiD6ZTWtzqmvGEZE3ec8CC3ZBtaIhHmBXUfscjLTZOfxwLFiRqsEUtQwsD3Cjr55_kM13tXVI-FD-SEmY3SwKsJbnkInRWh6CHf2fSesjosJmg/sRlFbod90j27tIRAMPDWiLOOfptp3PjkiVU9rcnizOU, 78, 36}, {https://v5.airtableusercontent.com/v3/u/39/39/1741996800000/qwHKt2BEC-ROOpuU3l_FPA/iNDwJxEVK84xar0VLhgFdRBWyQrnIfabRSla8Ij1hPVexMf13LJIsawX98rEiU1KgizxTNjrXEHEC9fbyZxdc0Uo57YoFhqtHRIkK1VL17r8nL0PS15ucr8HPHG-_N3T7HNLi1BdBclymDBn3v23CQ/j_c2FGiUXMFP984j-LhwfyZIA-Pxf2SeO9TnGnAZr_I, 1024, 470}, {https://v5.airtableusercontent.com/v3/u/39/39/1741996800000/XTNZs2h_7xlDEOBzrkNmHA/8wseCyp2-RhVAd-zyA6F4ywdJ_nYNM0tNeaPm6OB4h-LsBrR6QYBrjVImwMtbDC3nuHvOFsojXpo-woreg2wTY7TKD_wko9bdgl5l6OatYRn1gw6RGmet1LGLuKLZDNhN0uaAfQiFFehLqMz4qPrGg/T6PeGvqlxjEO0MlcqZBM68VyzjFmLdTwh5S56G_ooS0, 1024, 470}}}]                                                                    |\n",
      "|[{attAE2j6en8OSYAjH, 1067, 533, https://v5.airtableusercontent.com/v3/u/39/39/1741996800000/s2imiITj-eKRBFOSa6INYw/3i9AceI93r1GV0myfmEYiZrncg777us0Ch2QOaHE5jfZ224fITmvzlO6XeE_WeJeB3da6TNy4W9o2U4Q6guhsLi1t1NltGs1x1H-jdTdcEvGf07Z0V-oekrcLZFNrfmZHGtP4ucKyBwLar6WGrEOjdPlaT9xEKQkyJzaPDL4wRJG58gv5t_vzUoXeyUCoKjf/64iB_me8eCzrT_dJGgm3WfDjDF5eNeijnHMWKgM4TMc, Demoday_19-03_Cubo_M&P_Evnts_800x400.png, 941631, image/png, {{https://v5.airtableusercontent.com/v3/u/39/39/1741996800000/ybiW7S_UQscURbWW9MaIrQ/gfdCAYKsUdcT_qkBaacNMlQ9xT1-PrMFVExEopgvWA78sp0mBquC95pDSIwtFyp7fayD_0X9UsVC0LVjoo-0n2sIwh_EiGKTWTXRBTetLXuB_MIR0cnB0zcBV647AvMGh12MAnDg1osIJU8FwymYuw/2GsJObN3PtO-j7x_lNAK0Dbsws5PTqJSB4fqs5z5P1g, 72, 36}, {https://v5.airtableusercontent.com/v3/u/39/39/1741996800000/24OL3-DeZ8K8ISSSJuTKeQ/-ZBvVmCSG824c7P0yzNcEcof4zAkradUmke79Sre6BSVWlvIiCipYvnhnnjcv-oH0NrwQVUwuR19jqJwYR3lJL16j22iqYxyGXC37GdyA-jXw2046H4KbRyYy2txBmD56ZObM2r2N3XAmECGP3coAw/ryeADvAaDxi_cXVq7MTZ9N3IwTt-gq4j8qexBAnIstk, 1025, 512}, {https://v5.airtableusercontent.com/v3/u/39/39/1741996800000/61Zj0O85l29DkJ3e4DwQ3g/xjw4cpicFIFpF_KrjpD0NxYd5V0Grw8PTtYtf_3ysh21iqJCmkLUHltOsJIDe3Ab9npxlanZM7fHhBA1EF1OcZMPs47rgSpfAWAl1CIRr7BBeCauILkOXz9HlBLxz0d7n56_Gge3SK952OAv1fV1Bw/WtVrYV5411YovdZTLIb0Y8WUZH3kEvirdZXEYaPsvdc, 1067, 533}}}]                                                             |\n",
      "+------------------------------------------------------------------------------------------------------------------------------------------------------------------------------------------------------------------------------------------------------------------------------------------------------------------------------------------------------------------------------------------------------------------------------------------------------------------------------------------------------------------------------------------------------------------------------------------------------------------------------------------------------------------------------------------------------------------------------------------------------------------------------------------------------------------------------------------------------------------------------------------------------------------------------------------------------------------------------------------------------------------------------------------------------------------------------------------------------------------------------------------------------------------------------------------------------------------------------------------------------------------------------------------------------------------------------------------------------------------------------------------------------+\n",
      "\n"
     ]
    }
   ],
   "source": [
    "newDf.select(\"fields.Imagem\").show(truncate=False)\n"
   ]
  },
  {
   "cell_type": "code",
   "execution_count": 7,
   "metadata": {},
   "outputs": [
    {
     "name": "stdout",
     "output_type": "stream",
     "text": [
      "+--------------------------------------------------------------------------------------------------------------------------------------------------------------------------------------------------------------------------------------------------------------------------------------------------------------------------------------------------------------------------+\n",
      "|Imagem                                                                                                                                                                                                                                                                                                                                                                    |\n",
      "+--------------------------------------------------------------------------------------------------------------------------------------------------------------------------------------------------------------------------------------------------------------------------------------------------------------------------------------------------------------------------+\n",
      "|https://v5.airtableusercontent.com/v3/u/39/39/1741996800000/99Ul5jzBGAAU46ncJ7xgQw/vrmL1nRAEALUNJjQrIK3L_8NXQl8MHda-OEItFl_mfQf2qXydaX2QXeU4Il-xY9tu-CfebUAZb4EOeDJEU0ezKq13sh6XfMQklxZXqGmHqvTkZrSFRpaqDPddczhAsIS5aew9y2rDG8df7hkqmlss5x9KN7LAfo_hw2RYq97mFuLKtaPFrbVA6Gr6KXUsN1uRUARCgYmwUkaRl8iwVJwJtcBhgc4yFY0VZNjgxCUFPc/A-64rGdcMuM2sCmz3nIIcCma8g9UZgBBJzefsXKIRE4|\n",
      "|https://v5.airtableusercontent.com/v3/u/39/39/1741996800000/rdO1AscAdqDGSgHU_VwlEw/VlKwXJKenkwAi_RuUZmwfTk4efzyOD9zERhv_js7xJaoYb6Wwch10VdhSlNo9RyUOEv0XtmNTAlkiW_El0rue4QEE21m5WeVc_tCVvU0xPsFVVREEqHosl57aemd7CFYbko6qTp278iK53h8B2uguk5IK7IlZvR98BS7rJOqqa0/p9O1nSYxNK2mQBmr8E6FnYRQ6TyAcOuYM3NgSbmFxXQ                                                                |\n",
      "|https://v5.airtableusercontent.com/v3/u/39/39/1741996800000/H7Cl04NtH85p22TU2tDGag/s_zQGUkJvkVXgPE0CBujKhk6v2L-UaVCOAkQSYzH_NRZyc7TRH3c4w0vjhf6fUfoTUOcUPlXe5qqEwLbT5j-NtfeFchXKxy2Wo_EBWjwAcA03WjwEwKGDiSLfAbiFtmnSSji2kI9h9fBsXbL0ol1FyoVHF_kPgzzBVOBgTTvxxKwtzghtXbybinSyNOTuetv/BulbojsRNN8CAvVnh8WkYeMUT8l850esPor-taGkS_0                                           |\n",
      "|https://v5.airtableusercontent.com/v3/u/39/39/1741996800000/F7QvbM1UpoMI14hFX7_S2A/Nl7i6JG7TL7TiINOhGLFinD2ICSonjhOnvjQnEsPJO14zCCrlJ0Knc-ICajim-7t05FjSmbs6YsPDbpml0tad-PzB7sRwiSK6hAc9Equf3voLuesOsDg7xvPuXRfXtcDR47IH_LJGYj0tDwFMNt_LaQkY0bRChbFJVHqTZgU8RW9ojxjFntpnczZmJnOQ_MQ/qTUmtcHTL-BpL9TafMif62NGMAdCNKVj7xxR6acu6gA                                           |\n",
      "|https://v5.airtableusercontent.com/v3/u/39/39/1741996800000/s2imiITj-eKRBFOSa6INYw/3i9AceI93r1GV0myfmEYiZrncg777us0Ch2QOaHE5jfZ224fITmvzlO6XeE_WeJeB3da6TNy4W9o2U4Q6guhsLi1t1NltGs1x1H-jdTdcEvGf07Z0V-oekrcLZFNrfmZHGtP4ucKyBwLar6WGrEOjdPlaT9xEKQkyJzaPDL4wRJG58gv5t_vzUoXeyUCoKjf/64iB_me8eCzrT_dJGgm3WfDjDF5eNeijnHMWKgM4TMc                                           |\n",
      "+--------------------------------------------------------------------------------------------------------------------------------------------------------------------------------------------------------------------------------------------------------------------------------------------------------------------------------------------------------------------------+\n",
      "\n"
     ]
    }
   ],
   "source": [
    "from pyspark.sql.functions import col, explode\n",
    "\n",
    "# Explodir a coluna \"Imagem\" para acessar o primeiro item do array\n",
    "newDf = newDf.withColumn(\"Imagem\", explode(col(\"fields.Imagem\")))\n",
    "\n",
    "# Agora, acessar a URL corretamente\n",
    "newDf = newDf.withColumn(\"Imagem\", col(\"Imagem.url\"))\n",
    "\n",
    "# Mostrar resultado\n",
    "newDf.select(\"Imagem\").show(truncate=False)"
   ]
  },
  {
   "cell_type": "markdown",
   "metadata": {},
   "source": [
    "#Essa parte do bloco acima são testes"
   ]
  },
  {
   "cell_type": "code",
   "execution_count": null,
   "metadata": {},
   "outputs": [],
   "source": [
    "newDf = dataframeBaseEventos.apply_mapping(mapping).resolveChoice([(\"Evento Privado?\", \"cast:boolean\"), (\"Imagem\", \"cast:string\")]) \\\n",
    "        .drop_fields([\"id\", \"Tipo do evento\", \"createdTime\", \"Hub\", \"Publico\", \"Trimestre\", \"Semestre\", \"Categoria de evento\", \"Status do evento\", \n",
    "                      \"Created By\", \"Nome do criador do evento\", \"Created\"])"
   ]
  },
  {
   "cell_type": "code",
   "execution_count": null,
   "metadata": {},
   "outputs": [],
   "source": [
    "newDf.printSchema()"
   ]
  },
  {
   "cell_type": "code",
   "execution_count": null,
   "metadata": {},
   "outputs": [],
   "source": [
    "newDf.toDF().show(5)"
   ]
  },
  {
   "cell_type": "code",
   "execution_count": null,
   "metadata": {},
   "outputs": [],
   "source": [
    "try:\n",
    "    connection = psycopg2.connect(\n",
    "        host=\"db-dev-poc-rds.c3dnragwy3og.us-east-1.rds.amazonaws.com\",\n",
    "        port=\"5432\",\n",
    "        database=\"db_dev_poc_rds\",\n",
    "        user=\"postgres\",\n",
    "        password=\"P06n9VDnXZ5CLlg9UNrgd6h53\"\n",
    "    )\n",
    "    print(\"Conexão bem-sucedida!\")\n",
    "    connection.close()\n",
    "except Exception as e:\n",
    "    print(f\"Erro ao conectar ao banco: {e}\")"
   ]
  },
  {
   "cell_type": "code",
   "execution_count": null,
   "metadata": {},
   "outputs": [],
   "source": [
    "jdbc_url = \"jdbc:postgresql://db-dev-poc-rds.c3dnragwy3og.us-east-1.rds.amazonaws.com:5432/db_dev_poc_rds\"\n",
    "jdbc_properties = {\n",
    "    \"user\": \"postgres\",\n",
    "    \"password\": \"P06n9VDnXZ5CLlg9UNrgd6h53\",\n",
    "    \"driver\": \"org.postgresql.Driver\",\n",
    "    \"stringtype\": \"unspecified\"\n",
    "}"
   ]
  },
  {
   "cell_type": "code",
   "execution_count": null,
   "metadata": {},
   "outputs": [],
   "source": [
    "from pyspark.sql.functions import col, to_timestamp\n",
    "\n",
    "newDf = newDf.toDF()  # Convertendo DynamicFrame para DataFrame\n",
    "\n",
    "newDf = newDf.select(\n",
    "    col(\"Título do evento\").alias(\"name\"),\n",
    "    col(\"Link de inscrição\").alias(\"url\"),\n",
    "    col(\"Formato\").alias(\"modality\"),\n",
    "    to_timestamp(col(\"Data e Horário\")).alias(\"start_date\"),  # Conversão correta de data\n",
    "    to_timestamp(col(\"Data e Horário de Término\")).alias(\"end_date\"),  # Conversão correta de data\n",
    "    col(\"Imagem\").alias(\"image\"),\n",
    "    col(\"Descrição\").alias(\"detail\"),\n",
    "    col(\"Ativo\").cast(\"boolean\").alias(\"active\"),\n",
    "    col(\"Listar em Eventos Recomendados na Plataforma?\").cast(\"boolean\").alias(\"is_main_event\"),\n",
    "    col(\"Evento Privado?\").cast(\"boolean\").alias(\"private_event\"), \n",
    "    col(\"Publicado?\").cast(\"boolean\").alias(\"published\"), \n",
    "    col(\"Label\").alias(\"id\"),\n",
    "    col(\"Local do Evento\").alias(\"address\"), \n",
    "    col(\"Evento Destaque(site)\").cast(\"boolean\").alias(\"featured_events\"), \n",
    "    col(\"Tipo de Ingresso(site)\").alias(\"ticket_type\"),\n",
    "    col(\"Local(Sala/Andar)(site)\").alias(\"room_and_floor\"),\n",
    "    col(\"Tema(site)\").alias(\"theme\"),\n",
    "    col(\"Resumo do tema(site)\").alias(\"theme_summary\"), \n",
    "    col(\"Programação(site)\").alias(\"schedule\"),\n",
    "    col(\"Palestrantes(site)\").alias(\"speakers\")\n",
    ")\n"
   ]
  },
  {
   "cell_type": "code",
   "execution_count": null,
   "metadata": {},
   "outputs": [],
   "source": [
    "newDf.show(truncate=False)"
   ]
  },
  {
   "cell_type": "code",
   "execution_count": null,
   "metadata": {},
   "outputs": [],
   "source": [
    "# from pyspark.sql.functions import col, to_timestamp\n",
    "\n",
    "# newDf = newDf.toDF()\n",
    "\n",
    "# newDf = newDf.withColumn(\"start_date\", to_timestamp(col(\"Data e Horário\"))) \\\n",
    "#              .withColumn(\"end_date\", to_timestamp(col(\"Data e Horário de Término\")))\n",
    "\n",
    "# newDf.select(\"start_date\", \"end_date\").show(truncate=False)"
   ]
  },
  {
   "cell_type": "code",
   "execution_count": null,
   "metadata": {},
   "outputs": [],
   "source": [
    "# from pyspark.sql.functions import col, to_timestamp\n",
    "\n",
    "# # Ajustando os tipos e renomeando as colunas\n",
    "# newDf = newDf.toDF().select(\n",
    "#     col(\"Título do evento\").alias(\"name\"),\n",
    "#     col(\"Link de inscrição\").alias(\"url\"),\n",
    "#     col(\"Formato\").alias(\"modality\"),\n",
    "#     col(\"Imagem\").alias(\"image\"),\n",
    "#     col(\"Descrição\").alias(\"detail\"),\n",
    "#     col(\"Ativo\").alias(\"active\"),\n",
    "#     col(\"Listar em Eventos Recomendados na Plataforma?\").alias(\"is_main_event\"),\n",
    "#     col(\"Evento Privado?\").alias(\"private_event\"), \n",
    "#     col(\"Publicado?\").alias(\"published\"), \n",
    "#     col(\"Label\").alias(\"id\"),\n",
    "#     col(\"Local do Evento\").alias(\"address\"), \n",
    "#     col(\"Evento Destaque(site)\").alias(\"featured_events\"), \n",
    "#     col(\"Tipo de Ingresso(site)\").alias(\"ticket_type\"),\n",
    "#     col(\"Local(Sala/Andar)(site)\").alias(\"room_and_floor\"),\n",
    "#     col(\"Tema(site)\").alias(\"theme\"),\n",
    "#     col(\"Resumo do tema(site)\").alias(\"theme_summary\"), \n",
    "#     col(\"Programação(site)\").alias(\"schedule\"),\n",
    "#     col(\"Palestrantes(site)\").alias(\"speakers\")\n",
    "#     #col(\"Label\").cast(\"boolean\").alias(\"is_founder\")\n",
    "# )"
   ]
  },
  {
   "cell_type": "code",
   "execution_count": null,
   "metadata": {},
   "outputs": [],
   "source": [
    "newDf.printSchema()"
   ]
  },
  {
   "cell_type": "code",
   "execution_count": null,
   "metadata": {},
   "outputs": [],
   "source": [
    "newDf.select(\"start_date\", \"end_date\").show(truncate=False)"
   ]
  },
  {
   "cell_type": "code",
   "execution_count": null,
   "metadata": {},
   "outputs": [],
   "source": [
    "# newDf.limit(1).write.jdbc(\n",
    "#     url=jdbc_url,\n",
    "#     table=\"events_glue\",\n",
    "#     mode=\"append\",\n",
    "#     properties=jdbc_properties\n",
    "# )"
   ]
  },
  {
   "cell_type": "code",
   "execution_count": null,
   "metadata": {},
   "outputs": [],
   "source": [
    "newDf.write.jdbc(\n",
    "        url=jdbc_url,\n",
    "        table=\"events_glue\",\n",
    "        mode=\"append\",  # Adiciona os registros sem sobrescrever\n",
    "        properties=jdbc_properties\n",
    ")"
   ]
  }
 ],
 "metadata": {
  "kernelspec": {
   "display_name": "Python 3",
   "language": "python",
   "name": "python3"
  },
  "language_info": {
   "codemirror_mode": {
    "name": "ipython",
    "version": 3
   },
   "file_extension": ".py",
   "mimetype": "text/x-python",
   "name": "python",
   "nbconvert_exporter": "python",
   "pygments_lexer": "ipython3",
   "version": "3.7.16"
  },
  "orig_nbformat": 4
 },
 "nbformat": 4,
 "nbformat_minor": 2
}
