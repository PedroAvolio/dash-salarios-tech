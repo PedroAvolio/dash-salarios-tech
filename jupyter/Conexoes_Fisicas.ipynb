{
 "cells": [
  {
   "cell_type": "code",
   "execution_count": 1,
   "metadata": {},
   "outputs": [],
   "source": [
    "from pyspark.context import SparkContext\n",
    "from awsglue.context import GlueContext\n",
    "from awsglue.job import Job\n",
    "from awsglue.utils import getResolvedOptions\n",
    "from awsglue.transforms import Map, DropFields, ApplyMapping\n",
    "\n",
    "sc = SparkContext()\n",
    "context = GlueContext(sc)"
   ]
  },
  {
   "cell_type": "code",
   "execution_count": 2,
   "metadata": {},
   "outputs": [
    {
     "name": "stdout",
     "output_type": "stream",
     "text": [
      "s3://network.cubo.datalake/airtable/raw/prod/2023-03-21-00-08-11/data/[Cubo Itaú] Conexões 💫/Time Cubo/Conexões/\n"
     ]
    },
    {
     "data": {
      "text/plain": [
       "601"
      ]
     },
     "execution_count": 2,
     "metadata": {},
     "output_type": "execute_result"
    }
   ],
   "source": [
    "path = \"s3://network.cubo.datalake/airtable/raw/prod/\"\n",
    "path = path + \"2023-03-21-00-08-11/data/\"\n",
    "path = path + \"[Cubo Itaú] Conexões 💫/Time Cubo/Conexões/\"\n",
    "print(path)\n",
    "dataframeConexoesFisicas = context.create_dynamic_frame.from_options(\n",
    "                connection_type='s3',\n",
    "                connection_options={\n",
    "                    'paths': [path],\n",
    "                    'recurse': True\n",
    "                },\n",
    "                format='json'\n",
    "            )\n",
    "dataframeConexoesFisicas.count()"
   ]
  },
  {
   "cell_type": "code",
   "execution_count": 3,
   "metadata": {},
   "outputs": [
    {
     "name": "stdout",
     "output_type": "stream",
     "text": [
      "root\n",
      "|-- id: string\n",
      "|-- createdTime: string\n",
      "|-- fields: struct\n",
      "|    |-- Canal Conexão: string\n",
      "|    |-- Nome Parte 1: string\n",
      "|    |-- category: string\n",
      "|    |-- Email Parte 2: string\n",
      "|    |-- Tipo Conector + Comunidade Conector Parte 2: string\n",
      "|    |-- Responsável: string\n",
      "|    |-- Companies 2: string\n",
      "|    |-- Startup Cubo Parte 1: array\n",
      "|    |    |-- element: string\n",
      "|    |-- Companies: string\n",
      "|    |-- Nome Parte 2: string\n",
      "|    |-- Email Parte 1: string\n",
      "|    |-- Startup Cubo Parte 2: array\n",
      "|    |    |-- element: string\n",
      "|    |-- Tipo Conector + Comunidade Conector Parte 1: string\n",
      "|    |-- Contexto conexão: string\n",
      "|    |-- Objetivo Conexão: string\n",
      "|    |-- type: string\n",
      "|    |-- Data da Conexão: string\n",
      "|    |-- createdat: string\n",
      "|    |-- action: string\n",
      "|    |-- channel: string\n",
      "|    |-- Corporate Cubo Parte 1: array\n",
      "|    |    |-- element: string\n",
      "|    |-- Parceiro Cubo Parte 1: array\n",
      "|    |    |-- element: string\n",
      "|    |-- Empresa Parte 2: string\n",
      "|    |-- Empresa Parte 1: string\n",
      "|    |-- Corporate Cubo Parte 2: array\n",
      "|    |    |-- element: string\n",
      "|    |-- Parceiro Cubo Parte 2: array\n",
      "|    |    |-- element: string\n",
      "\n"
     ]
    }
   ],
   "source": [
    "dataframeConexoesFisicas.printSchema()"
   ]
  },
  {
   "cell_type": "code",
   "execution_count": 4,
   "metadata": {},
   "outputs": [],
   "source": [
    "mapping = []\n",
    "for item in dataframeConexoesFisicas.unnest().toDF().dtypes:\n",
    "    if item[0].split('.')[0] == \"fields\":\n",
    "        if len(item[0].split(\".\")) == 2:\n",
    "            mapping.append((item[0], item[0].split('.')[1]))\n",
    "    else:\n",
    "        mapping.append((item[0], item[0].split('.')[0]))"
   ]
  },
  {
   "cell_type": "code",
   "execution_count": 6,
   "metadata": {},
   "outputs": [],
   "source": [
    "newDf = dataframeConexoesFisicas.apply_mapping(mapping).resolveChoice([(\"createdat\", \"cast:string\")]) \\\n",
    "        .drop_fields([\"Empresa Parte 1\", \"Startup Cubo Parte 1\", \"Corporate Cubo Parte 1\", \"Parceiro Cubo Parte 1\",\n",
    "        \"Empresa Parte 2\", \"Startup Cubo Parte 2\", \"Corporate Cubo Parte 2\", \"Parceiro Cubo Parte 2\"]) \\\n",
    "        .rename_field(\"Companies\", \"slug\")"
   ]
  },
  {
   "cell_type": "code",
   "execution_count": 7,
   "metadata": {},
   "outputs": [
    {
     "name": "stdout",
     "output_type": "stream",
     "text": [
      "root\n",
      "|-- id: string\n",
      "|-- createdTime: string\n",
      "|-- Canal Conexão: string\n",
      "|-- Nome Parte 1: string\n",
      "|-- category: string\n",
      "|-- Email Parte 2: string\n",
      "|-- Tipo Conector + Comunidade Conector Parte 2: string\n",
      "|-- Responsável: string\n",
      "|-- Companies 2: string\n",
      "|-- Nome Parte 2: string\n",
      "|-- Email Parte 1: string\n",
      "|-- Tipo Conector + Comunidade Conector Parte 1: string\n",
      "|-- Contexto conexão: string\n",
      "|-- Objetivo Conexão: string\n",
      "|-- type: string\n",
      "|-- Data da Conexão: string\n",
      "|-- action: string\n",
      "|-- channel: string\n",
      "|-- createdat: string\n",
      "|-- slug: string\n",
      "\n"
     ]
    }
   ],
   "source": [
    "newDf.printSchema()"
   ]
  }
 ],
 "metadata": {
  "kernelspec": {
   "display_name": "Python 3",
   "language": "python",
   "name": "python3"
  },
  "language_info": {
   "codemirror_mode": {
    "name": "ipython",
    "version": 3
   },
   "file_extension": ".py",
   "mimetype": "text/x-python",
   "name": "python",
   "nbconvert_exporter": "python",
   "pygments_lexer": "ipython3",
   "version": "3.7.15"
  },
  "orig_nbformat": 4
 },
 "nbformat": 4,
 "nbformat_minor": 2
}
