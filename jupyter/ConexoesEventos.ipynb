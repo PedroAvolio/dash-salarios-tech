{
 "cells": [
  {
   "cell_type": "code",
   "execution_count": 1,
   "metadata": {},
   "outputs": [],
   "source": [
    "from pyspark.context import SparkContext\n",
    "from awsglue.context import GlueContext\n",
    "from awsglue.job import Job\n",
    "from awsglue.utils import getResolvedOptions\n",
    "from awsglue.transforms import Map, DropFields, ApplyMapping\n",
    "\n",
    "sc = SparkContext()\n",
    "context = GlueContext(sc)"
   ]
  },
  {
   "cell_type": "code",
   "execution_count": 2,
   "metadata": {},
   "outputs": [
    {
     "name": "stdout",
     "output_type": "stream",
     "text": [
      "s3://network.cubo.datalake/airtable/raw/prod/2023-09-04-02-34-19/data/Conexões - Base Eventos/Conexões/Grid Eventos/\n"
     ]
    },
    {
     "data": {
      "text/plain": [
       "246"
      ]
     },
     "execution_count": 2,
     "metadata": {},
     "output_type": "execute_result"
    }
   ],
   "source": [
    "path = \"s3://network.cubo.datalake/airtable/raw/prod/\"\n",
    "path = path + \"2023-09-04-02-34-19/data/\"\n",
    "path = path + \"Conexões - Base Eventos/Conexões/Grid Eventos/\"\n",
    "print(path)\n",
    "dataframeBaseEventos = context.create_dynamic_frame.from_options(\n",
    "                connection_type='s3',\n",
    "                connection_options={\n",
    "                    'paths': [path],\n",
    "                    'recurse': True\n",
    "                },\n",
    "                format='json'\n",
    "            )\n",
    "dataframeBaseEventos.count()"
   ]
  },
  {
   "cell_type": "code",
   "execution_count": 3,
   "metadata": {},
   "outputs": [
    {
     "name": "stdout",
     "output_type": "stream",
     "text": [
      "root\n",
      "|-- id: string\n",
      "|-- createdTime: string\n",
      "|-- fields: struct\n",
      "|    |-- Createdat: string\n",
      "|    |-- Name: string\n",
      "|    |-- Type: string\n",
      "|    |-- Date: string\n",
      "|    |-- Event: string\n",
      "|    |-- Status: string\n",
      "\n"
     ]
    }
   ],
   "source": [
    "dataframeBaseEventos.printSchema()"
   ]
  },
  {
   "cell_type": "code",
   "execution_count": 4,
   "metadata": {},
   "outputs": [],
   "source": [
    "mapping = []\n",
    "for item in dataframeBaseEventos.unnest().toDF().dtypes:\n",
    "    if item[0].split('.')[0] == \"fields\":\n",
    "        if len(item[0].split(\".\")) == 2:\n",
    "            mapping.append((item[0], item[0].split('.')[1]))\n",
    "    else:\n",
    "        mapping.append((item[0], item[0].split('.')[0]))  "
   ]
  },
  {
   "cell_type": "code",
   "execution_count": 6,
   "metadata": {},
   "outputs": [],
   "source": [
    "newDf = dataframeBaseEventos.apply_mapping(mapping).resolveChoice([(\"Createdat\", \"cast:string\")]) \\\n",
    "        .drop_fields([\"Date\"])"
   ]
  },
  {
   "cell_type": "code",
   "execution_count": 7,
   "metadata": {},
   "outputs": [
    {
     "name": "stdout",
     "output_type": "stream",
     "text": [
      "root\n",
      "|-- id: string\n",
      "|-- createdTime: string\n",
      "|-- Createdat: string\n",
      "|-- Name: string\n",
      "|-- Type: string\n",
      "|-- Event: string\n",
      "|-- Status: string\n",
      "\n"
     ]
    }
   ],
   "source": [
    "newDf.printSchema()"
   ]
  }
 ],
 "metadata": {
  "kernelspec": {
   "display_name": "Python 3",
   "language": "python",
   "name": "python3"
  },
  "language_info": {
   "codemirror_mode": {
    "name": "ipython",
    "version": 3
   },
   "file_extension": ".py",
   "mimetype": "text/x-python",
   "name": "python",
   "nbconvert_exporter": "python",
   "pygments_lexer": "ipython3",
   "version": "3.7.15"
  },
  "orig_nbformat": 4
 },
 "nbformat": 4,
 "nbformat_minor": 2
}
