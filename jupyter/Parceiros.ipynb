{
 "cells": [
  {
   "attachments": {},
   "cell_type": "markdown",
   "metadata": {},
   "source": [
    "Criação das Instâncias de serviços"
   ]
  },
  {
   "cell_type": "code",
   "execution_count": null,
   "metadata": {},
   "outputs": [],
   "source": [
    "from pyspark.context import SparkContext\n",
    "from awsglue.context import GlueContext\n",
    "from awsglue.job import Job\n",
    "from awsglue.utils import getResolvedOptions\n",
    "from awsglue.transforms import Map, DropFields, ApplyMapping\n",
    "\n",
    "sc = SparkContext()\n",
    "context = GlueContext(sc)"
   ]
  },
  {
   "cell_type": "code",
   "execution_count": null,
   "metadata": {},
   "outputs": [],
   "source": [
    "# s3://network.cubo.datalake/airtable/raw/prod/2023-01-02-20-16-19/data/Selo Cubo Startups/Corporates Ativas/Grid view/\n",
    "path = \"s3://network.cubo.datalake/airtable/raw/prod/\"\n",
    "path = path + \"2023-01-02-20-16-19/data/\"\n",
    "path = path + \"Selo Cubo Startups/Parceiros Ativos/Grid view/\"\n",
    "print(path)\n",
    "dataframe = context.create_dynamic_frame.from_options(\n",
    "                connection_type='s3',\n",
    "                connection_options={\n",
    "                    'paths': [path],\n",
    "                    'recurse': True\n",
    "                },\n",
    "                format='json'\n",
    "            )\n",
    "dataframe.count()"
   ]
  },
  {
   "cell_type": "code",
   "execution_count": null,
   "metadata": {},
   "outputs": [],
   "source": [
    "dataframe.printSchema()"
   ]
  },
  {
   "cell_type": "code",
   "execution_count": null,
   "metadata": {},
   "outputs": [],
   "source": [
    "mapping = []\n",
    "for item in dataframe.unnest().toDF().dtypes:\n",
    "    if item[0].split('.')[0] == \"fields\":\n",
    "        if len(item[0].split(\".\")) == 2:\n",
    "            mapping.append((item[0], item[0].split('.')[1]))\n",
    "    else:\n",
    "        mapping.append((item[0], item[0].split('.')[0]))"
   ]
  },
  {
   "cell_type": "code",
   "execution_count": null,
   "metadata": {},
   "outputs": [],
   "source": [
    "newDf = dataframe.apply_mapping(mapping).resolveChoice(specs=[\n",
    "    (\"Faturamento 2022\", \"cast:decimal\"),\n",
    "    (\"Valor a captar / Faturamento previsto\", \"cast:decimal\"),\n",
    "    (\"Previsão do faturamento 2023\", \"cast:decimal\"),\n",
    "    (\"Captable\", \"cast:decimal\"),\n",
    "    (\"Faturamento 2021\", \"cast:decimal\"),\n",
    "    (\"Turnover\", \"cast:decimal\"),\n",
    "    (\"Δ Fat 21-22\", \"cast:decimal\"),\n",
    "    (\"Δ Clientes 21-22\", \"cast:decimal\"),\n",
    "    (\"Δ Fat 22-23\", \"cast:decimal\"),\n",
    "    (\"Δ Fat 21-23\", \"cast:decimal\"),\n",
    "    (\"Δ Fat 21-22/22-23\", \"cast:decimal\"),\n",
    "    (\"Δ Clientes 22-23\", \"cast:decimal\"),\n",
    "    (\"Δ Clientes 21-23\", \"cast:decimal\"),\n",
    "    (\"Δ Clientes 21-22/22-23\", \"cast:decimal\"),\n",
    "    (\"Δ Time 22-23\", \"cast:decimal\"),\n",
    "    (\"Δ Time 21-22/22-23\", \"cast:decimal\"),\n",
    "    (\"PERFORMANCE\", \"cast:decimal\"),\n",
    "    (\"CRESCIMENTO\", \"cast:decimal\"),\n",
    "    (\"INVESTIMENTO\", \"cast:decimal\"),\n",
    "    (\"PESSOAS\", \"cast:decimal\"),\n",
    "    (\"Δ Time 21-23\", \"cast:decimal\"),\n",
    "    (\"Δ Time 21-22\", \"cast:decimal\"),\n",
    "    (\"Δ Time 21-22/22-23\", \"cast:decimal\")\n",
    "])\n",
    "newDf.printSchema()\n"
   ]
  },
  {
   "cell_type": "code",
   "execution_count": null,
   "metadata": {},
   "outputs": [],
   "source": [
    "newDf.select_fields(\"CRESCIMENTO\").toDF().show()"
   ]
  },
  {
   "cell_type": "code",
   "execution_count": null,
   "metadata": {},
   "outputs": [],
   "source": [
    "# path = \"s3://network.cubo.datalake/airtable/proc/prod/\"\n",
    "# path = path + \"2022-12-29-15-21-18/data/\"\n",
    "# path = path + \"Selo Cubo Startups/Selo Cubo 2023/📝 Respostas Selo Cubo/\"\n",
    "# context.write_dynamic_frame.from_options(\n",
    "#             frame=newDf,\n",
    "#             connection_type=\"s3\",\n",
    "#             format=\"parquet\",\n",
    "#             connection_options={\n",
    "#                 \"path\": path,\n",
    "#                 \"partitionKeys\": [],\n",
    "#             },\n",
    "#             format_options={\"compression\": \"gzip\"},\n",
    "#             transformation_ctx=\"S3Destination\",\n",
    "#         )"
   ]
  }
 ],
 "metadata": {
  "kernelspec": {
   "display_name": "Python 3",
   "language": "python",
   "name": "python3"
  },
  "language_info": {
   "codemirror_mode": {
    "name": "ipython",
    "version": 3
   },
   "file_extension": ".py",
   "mimetype": "text/x-python",
   "name": "python",
   "nbconvert_exporter": "python",
   "pygments_lexer": "ipython3",
   "version": "3.7.10 (default, Jun  3 2021, 00:02:01) \n[GCC 7.3.1 20180712 (Red Hat 7.3.1-13)]"
  },
  "orig_nbformat": 4,
  "vscode": {
   "interpreter": {
    "hash": "31f2aee4e71d21fbe5cf8b01ff0e069b9275f58929596ceb00d14d90e3e16cd6"
   }
  }
 },
 "nbformat": 4,
 "nbformat_minor": 2
}
