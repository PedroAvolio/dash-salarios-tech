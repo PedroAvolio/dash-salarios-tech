{
 "cells": [
  {
   "cell_type": "code",
   "execution_count": 1,
   "metadata": {},
   "outputs": [],
   "source": [
    "from pyspark.context import SparkContext\n",
    "from awsglue.context import GlueContext\n",
    "from awsglue.job import Job\n",
    "from awsglue.utils import getResolvedOptions\n",
    "from awsglue.transforms import Map, DropFields, ApplyMapping\n",
    "from boto3.dynamodb.types import TypeSerializer, TypeDeserializer\n",
    "import sqlite3 \n",
    "\n",
    "sc = SparkContext()\n",
    "context = GlueContext(sc)"
   ]
  },
  {
   "cell_type": "code",
   "execution_count": 2,
   "metadata": {},
   "outputs": [],
   "source": [
    "path = \"s3://network.cubo.datalake/cubonetwork/raw/prod/2023-03-16-14-30-07/insights-events/data/\"\n",
    "dataframe = context.create_dynamic_frame.from_options(\n",
    "                connection_type='s3',\n",
    "                connection_options={\n",
    "                    'paths': [path],\n",
    "                    'recurse': True\n",
    "                },\n",
    "                format_options={\n",
    "                'jsonPath': '$.Item',\n",
    "                },\n",
    "                format='json'\n",
    "            )"
   ]
  },
  {
   "cell_type": "code",
   "execution_count": 3,
   "metadata": {},
   "outputs": [
    {
     "name": "stdout",
     "output_type": "stream",
     "text": [
      "root\n",
      "|-- id: struct\n",
      "|    |-- S: string\n",
      "|-- action: struct\n",
      "|    |-- S: string\n",
      "|-- data: struct\n",
      "|    |-- M: struct\n",
      "|    |    |-- terms: struct\n",
      "|    |    |    |-- S: string\n",
      "|    |    |-- countOnConnectionsRanking: struct\n",
      "|    |    |    |-- BOOL: boolean\n",
      "|    |    |-- sector: struct\n",
      "|    |    |    |-- S: string\n",
      "|    |    |-- startup: struct\n",
      "|    |    |    |-- S: string\n",
      "|    |    |-- categoryData: struct\n",
      "|    |    |    |-- S: string\n",
      "|    |    |-- companyId: struct\n",
      "|    |    |    |-- S: string\n",
      "|    |    |-- challengeId: struct\n",
      "|    |    |    |-- S: string\n",
      "|    |    |-- corporate: struct\n",
      "|    |    |    |-- S: string\n",
      "|    |    |-- challengeTitle: struct\n",
      "|    |    |    |-- S: string\n",
      "|    |    |-- startupId: struct\n",
      "|    |    |    |-- S: string\n",
      "|    |    |-- startupImageUrl: struct\n",
      "|    |    |    |-- S: string\n",
      "|    |    |-- challengeCorporateId: struct\n",
      "|    |    |    |-- S: string\n",
      "|    |    |-- challengeData: struct\n",
      "|    |    |    |-- N: string\n",
      "|    |    |-- startupName: struct\n",
      "|    |    |    |-- S: string\n",
      "|    |    |-- startupSlug: struct\n",
      "|    |    |    |-- S: string\n",
      "|    |    |-- subCategoryData: struct\n",
      "|    |    |    |-- S: string\n",
      "|    |    |-- pipelineId: struct\n",
      "|    |    |    |-- S: string\n",
      "|    |    |-- partner: struct\n",
      "|    |    |    |-- S: string\n",
      "|    |    |-- library: struct\n",
      "|    |    |    |-- S: string\n",
      "|    |    |-- profileUid: struct\n",
      "|    |    |    |-- S: string\n",
      "|    |    |-- origin: struct\n",
      "|    |    |    |-- S: string\n",
      "|    |    |-- job: struct\n",
      "|    |    |    |-- S: string\n",
      "|    |    |-- case: struct\n",
      "|    |    |    |-- S: string\n",
      "|    |    |-- investor: struct\n",
      "|    |    |    |-- S: string\n",
      "|    |    |-- founderId: struct\n",
      "|    |    |    |-- S: string\n",
      "|    |    |-- corporateId: struct\n",
      "|    |    |    |-- S: string\n",
      "|-- label: struct\n",
      "|    |-- NULL: boolean\n",
      "|    |-- S: string\n",
      "|-- category: struct\n",
      "|    |-- S: string\n",
      "|-- createdAt: struct\n",
      "|    |-- N: string\n",
      "|-- user: struct\n",
      "|    |-- S: string\n",
      "\n"
     ]
    }
   ],
   "source": [
    "dataframe.printSchema()"
   ]
  },
  {
   "cell_type": "code",
   "execution_count": 4,
   "metadata": {},
   "outputs": [],
   "source": [
    "from pyspark.sql.functions import sum, col, desc\n",
    "td = TypeDeserializer()\n",
    "def recDDB(item):\n",
    "    deserialized_document = {k: td.deserialize(v) for k, v in item.items()}\n",
    "    return deserialized_document\n",
    "\n",
    "newDf2 = dataframe.map(f = recDDB)"
   ]
  },
  {
   "cell_type": "code",
   "execution_count": 5,
   "metadata": {},
   "outputs": [
    {
     "name": "stdout",
     "output_type": "stream",
     "text": [
      "root\n",
      "|-- action: string\n",
      "|-- data: struct\n",
      "|    |-- countOnConnectionsRanking: boolean\n",
      "|    |-- terms: string\n",
      "|    |-- sector: string\n",
      "|    |-- startup: string\n",
      "|    |-- categoryData: string\n",
      "|    |-- companyId: string\n",
      "|    |-- challengeId: string\n",
      "|    |-- challengeTitle: string\n",
      "|    |-- corporate: string\n",
      "|    |-- startupId: string\n",
      "|    |-- startupImageUrl: string\n",
      "|    |-- startupName: string\n",
      "|    |-- startupSlug: string\n",
      "|    |-- challengeData: decimal\n",
      "|    |-- challengeCorporateId: string\n",
      "|    |-- subCategoryData: string\n",
      "|    |-- pipelineId: string\n",
      "|    |-- partner: string\n",
      "|    |-- library: string\n",
      "|    |-- profileUid: string\n",
      "|    |-- origin: string\n",
      "|    |-- job: string\n",
      "|    |-- case: string\n",
      "|    |-- investor: string\n",
      "|    |-- founderId: string\n",
      "|    |-- corporateId: string\n",
      "|-- user: string\n",
      "|-- category: string\n",
      "|-- label: string\n",
      "|-- createdAt: decimal\n",
      "|-- id: string\n",
      "\n"
     ]
    }
   ],
   "source": [
    "newDf2.printSchema()"
   ]
  },
  {
   "cell_type": "code",
   "execution_count": null,
   "metadata": {},
   "outputs": [],
   "source": [
    "newDf3.printSchema()"
   ]
  },
  {
   "cell_type": "code",
   "execution_count": 6,
   "metadata": {},
   "outputs": [],
   "source": [
    "def recInsights(item):\n",
    "    try:\n",
    "        if \"data\" in item:\n",
    "\n",
    "            if \"startup\" in item[\"data\"] and \"corporate\" in item[\"data\"]:\n",
    "                del item[\"data\"][\"startup\"]\n",
    "                del item[\"data\"][\"corporate\"]\n",
    "\n",
    "            if \"startup\" in item[\"data\"]:\n",
    "                item[\"data\"][\"companyId\"] = item[\"data\"][\"startup\"]\n",
    "                del item[\"data\"][\"startup\"]\n",
    "\n",
    "            if \"startupId\" in item[\"data\"]:\n",
    "                item[\"data\"][\"companyId\"] = item[\"data\"][\"startupId\"]\n",
    "                del item[\"data\"][\"startupId\"]\n",
    "\n",
    "            if \"corporateId\" in item[\"data\"]:\n",
    "                item[\"data\"][\"companyId\"] = item[\"data\"][\"corporateId\"]\n",
    "                del item[\"data\"][\"corporateId\"]\n",
    "\n",
    "            if \"corporate\" in item[\"data\"]:\n",
    "                item[\"data\"][\"companyId\"] = item[\"data\"][\"corporate\"]\n",
    "                del item[\"data\"][\"corporate\"]\n",
    "\n",
    "            if \"partner\" in item[\"data\"]:\n",
    "                item[\"data\"][\"companyId\"] = item[\"data\"][\"partner\"]\n",
    "                del item[\"data\"][\"partner\"]\n",
    "\n",
    "            if \"profileUid\" in item[\"data\"]:\n",
    "                item[\"profileUid\"] = item[\"data\"][\"profileUid\"]\n",
    "                del item[\"data\"][\"profileUid\"]\n",
    "\n",
    "            if \"companyId\" in item[\"data\"]:\n",
    "                item[\"companyIdTo\"] = item[\"data\"][\"companyId\"]\n",
    "\n",
    "    except:\n",
    "        return item\n",
    "\n",
    "    return item\n",
    "\n",
    "newDf4 = newDf2.map(f=recInsights)  "
   ]
  },
  {
   "cell_type": "code",
   "execution_count": 7,
   "metadata": {},
   "outputs": [
    {
     "name": "stdout",
     "output_type": "stream",
     "text": [
      "root\n",
      "|-- action: string\n",
      "|-- companyIdTo: string\n",
      "|-- data: struct\n",
      "|    |-- companyId: string\n",
      "|    |-- countOnConnectionsRanking: boolean\n",
      "|    |-- terms: string\n",
      "|    |-- sector: string\n",
      "|    |-- categoryData: string\n",
      "|    |-- startupImageUrl: string\n",
      "|    |-- challengeTitle: string\n",
      "|    |-- startupName: string\n",
      "|    |-- startupSlug: string\n",
      "|    |-- challengeData: decimal\n",
      "|    |-- challengeCorporateId: string\n",
      "|    |-- challengeId: string\n",
      "|    |-- pipelineId: string\n",
      "|    |-- origin: string\n",
      "|    |-- job: string\n",
      "|    |-- subCategoryData: string\n",
      "|    |-- investor: string\n",
      "|    |-- library: string\n",
      "|    |-- founderId: string\n",
      "|    |-- case: string\n",
      "|-- user: string\n",
      "|-- category: string\n",
      "|-- label: string\n",
      "|-- createdAt: decimal\n",
      "|-- id: string\n",
      "|-- profileUid: string\n",
      "\n"
     ]
    }
   ],
   "source": [
    "newDf4.printSchema()"
   ]
  },
  {
   "cell_type": "code",
   "execution_count": 9,
   "metadata": {},
   "outputs": [],
   "source": [
    "newDf4 = dataframe.map(f = recDDB).resolveChoice([(\"createdAt\", \"cast:string\")]) \\\n",
    "    .rename_field(\"label\", \"type\")"
   ]
  },
  {
   "cell_type": "code",
   "execution_count": 10,
   "metadata": {},
   "outputs": [
    {
     "name": "stdout",
     "output_type": "stream",
     "text": [
      "root\n",
      "|-- action: string\n",
      "|-- type: string\n",
      "|-- data: struct\n",
      "|    |-- startup: string\n",
      "|    |-- countOnConnectionsRanking: boolean\n",
      "|    |-- terms: string\n",
      "|    |-- startupId: string\n",
      "|    |-- companyId: string\n",
      "|    |-- sector: string\n",
      "|    |-- corporate: string\n",
      "|    |-- categoryData: string\n",
      "|    |-- startupImageUrl: string\n",
      "|    |-- challengeTitle: string\n",
      "|    |-- startupName: string\n",
      "|    |-- startupSlug: string\n",
      "|    |-- challengeData: decimal\n",
      "|    |-- challengeCorporateId: string\n",
      "|    |-- challengeId: string\n",
      "|    |-- pipelineId: string\n",
      "|    |-- origin: string\n",
      "|    |-- profileUid: string\n",
      "|    |-- job: string\n",
      "|    |-- partner: string\n",
      "|    |-- subCategoryData: string\n",
      "|    |-- investor: string\n",
      "|    |-- library: string\n",
      "|    |-- founderId: string\n",
      "|    |-- case: string\n",
      "|    |-- corporateId: string\n",
      "|-- category: string\n",
      "|-- user: string\n",
      "|-- createdAt: string\n",
      "|-- id: string\n",
      "\n"
     ]
    }
   ],
   "source": [
    "newDf4.printSchema()"
   ]
  }
 ],
 "metadata": {
  "kernelspec": {
   "display_name": "Python 3",
   "language": "python",
   "name": "python3"
  },
  "language_info": {
   "codemirror_mode": {
    "name": "ipython",
    "version": 3
   },
   "file_extension": ".py",
   "mimetype": "text/x-python",
   "name": "python",
   "nbconvert_exporter": "python",
   "pygments_lexer": "ipython3",
   "version": "3.7.15"
  },
  "orig_nbformat": 4
 },
 "nbformat": 4,
 "nbformat_minor": 2
}
